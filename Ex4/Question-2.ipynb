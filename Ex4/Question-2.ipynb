{
 "cells": [
  {
   "cell_type": "markdown",
   "source": [
    "# Zvi Badash 214553034\n",
    "## Assignment 15\n",
    "### Question 2 - Calculating the gradient of a convolutional layer\n",
    "The video explaining the exercise can be found [here](https://youtu.be/X_hfCh3eUTM)"
   ],
   "metadata": {
    "collapsed": false
   }
  },
  {
   "cell_type": "markdown",
   "source": [
    "### Let's start with some notation:\n",
    "Let\n",
    "$$X=\\begin{bmatrix}x_{11} & x_{12} & x_{13}\\\\\n",
    "x_{21} & x_{22} & x_{23}\\\\\n",
    "x_{31} & x_{32} & x_{33}\n",
    "\\end{bmatrix}$$\n",
    "and let $$\n",
    "K=\\begin{bmatrix}k_{1}\\\\\n",
    "k_{2}\n",
    "\\end{bmatrix},\\qquad Y=X*K=\\begin{bmatrix}y_{11} & y_{12} & y_{13}\\\\\n",
    "y_{21} & y_{22} & y_{23}\n",
    "\\end{bmatrix}$$"
   ],
   "metadata": {
    "collapsed": false
   }
  },
  {
   "cell_type": "markdown",
   "source": [
    "### Part 1 - Calculating the gradient of $C$ with respect to $K$\n",
    "We know that $K$ influences $C$ only through $Y$, so we can use the chain rule to calculate the gradient of $C$ with respect to $K$:\n",
    "$$\n",
    "\\frac{\\partial C}{\\partial k_{\\ell}}=\\sum_{i,j} \\textcolor{cyan}{\\frac{\\partial C}{\\partial y_{ij}}}\\cdot \\textcolor{orange}{\\frac{\\partial y_{ij}}{\\partial k_{\\ell}}}\n",
    "$$\n",
    "where $\\ell\\in\\{1,2\\}$.\n",
    "The cyan part is the gradient of $C$ with respect to $y_{ij}$, which is given. The orange part is the gradient of $y_{ij}$ with respect to $k_{\\ell}$, which we will calculate now.\n",
    "\n",
    "Because $k_\\ell$ influences $y_{ij}$ directly, we can write:\n",
    "$$\n",
    "\\begin{cases}\n",
    "y_{11}=x_{11}k_{1}+x_{21}k_{2}\\quad & y_{21}=x_{21}k_{1}+x_{31}k_{2}\\\\\n",
    "y_{12}=x_{12}k_{1}+x_{22}k_{2}\\quad & y_{22}=x_{22}k_{1}+x_{32}k_{2}\\\\\n",
    "y_{13}=x_{13}k_{1}+x_{23}k_{2}\\quad & y_{23}=x_{23}k_{1}+x_{33}k_{2}\n",
    "\\end{cases}\n",
    "$$\n",
    "Thus,\n",
    "$$\n",
    "\\textcolor{orange}{\\frac{\\partial y_{ij}}{\\partial k_{1}}=x_{ij}\\qquad\\frac{\\partial y_{ij}}{\\partial k_{2}}=x_{i+1,j}}\n",
    "$$\n",
    "And therefore,\n",
    "$$\n",
    "\\frac{\\partial C}{\\partial k_{1}}=\\sum_{i,j} \\textcolor{cyan}{\\frac{\\partial C}{\\partial y_{ij}}}\\cdot \\textcolor{orange}{x_{ij}}, \\qquad \\frac{\\partial C}{\\partial k_{2}}=\\sum_{i,j} \\textcolor{cyan}{\\frac{\\partial C}{\\partial y_{ij}}}\\cdot \\textcolor{orange}{x_{i+1,j}}\n",
    "$$\n",
    "Or,\n",
    "$$\n",
    "\\boxed{\\frac{\\partial C}{\\partial k_{\\ell}}=\\sum_{i,j} \\textcolor{cyan}{\\frac{\\partial C}{\\partial y_{ij}}}\\cdot \\textcolor{orange}{x_{i+\\ell-1,j}}\n",
    "$$"
   ],
   "metadata": {
    "collapsed": false
   }
  },
  {
   "cell_type": "markdown",
   "source": [
    "### Part 2 - Calculating the gradient of $C$ with respect to $X$\n",
    "We know that $X$ influences $C$ only through $Y$, so we can use the chain rule to calculate the gradient of $C$ with respect to $X$:\n",
    "$$\n",
    "\\frac{\\partial C}{\\partial x_{mn}}=\\sum_{i,j} \\textcolor{cyan}{\\frac{\\partial C}{\\partial y_{ij}}}\\cdot \\textcolor{orange}{\\frac{\\partial y_{ij}}{\\partial x_{mn}}}\n",
    "$$\n",
    "where $m,n \\in \\{1,2,3\\}$.\n",
    "The cyan part is the gradient of $C$ with respect to $y_{ij}$, which is given. The orange part is the gradient of $y_{ij}$ with respect to $x_{mn}$, which we will calculate now.\n",
    "\n",
    "Because $x_{mn}$ influences $y_{ij}$ directly, we can write:\n",
    "$$\n",
    "\\begin{cases}\n",
    "y_{11}=x_{11}k_{1}+x_{21}k_{2}\\quad & y_{21}=x_{21}k_{1}+x_{31}k_{2}\\\\\n",
    "y_{12}=x_{12}k_{1}+x_{22}k_{2}\\quad & y_{22}=x_{22}k_{1}+x_{32}k_{2}\\\\\n",
    "y_{13}=x_{13}k_{1}+x_{23}k_{2}\\quad & y_{23}=x_{23}k_{1}+x_{33}k_{2}\n",
    "\\end{cases}\n",
    "$$\n",
    "Thus,\n",
    "$$\n",
    "\\frac{\\partial y_{ij}}{\\partial x_{mn}}=\\begin{cases}\n",
    "k_{1}, \\quad & m=i,\\;n=j\\\\\n",
    "k_{2}, \\quad & m=i+1,\\;n=j\\\\\n",
    "0, & \\quad \\text{otherwise}\n",
    "\\end{cases}\n",
    "$$\n",
    "And therefore,\n",
    "$$\n",
    "\\frac{\\partial C}{\\partial x_{mn}}=\\sum_{i,j} \\textcolor{cyan}{\\frac{\\partial C}{\\partial y_{ij}}}\\cdot \\textcolor{orange}{\\frac{\\partial y_{ij}}{\\partial x_{mn}}}=\\sum_{i,j} \\textcolor{cyan}{\\frac{\\partial C}{\\partial y_{ij}}}\\cdot \\textcolor{orange}{\\begin{cases}\n",
    "k_{1}, \\quad & m=i,\\;n=j\\\\\n",
    "k_{2}, \\quad & m=i+1,\\;n=j\\\\\n",
    "0, & \\quad \\text{otherwise}\n",
    "\\end{cases}}\n",
    "$$\n",
    "Or,\n",
    "$$\n",
    "\\boxed{\\frac{\\partial C}{\\partial x_{mn}}=\\sum_{i,j} \\textcolor{cyan}{\\frac{\\partial C}{\\partial y_{ij}}}\\cdot \\textcolor{orange}{\\begin{cases}\n",
    "k_{1}, \\quad & m=i,\\;n=j\\\\\n",
    "k_{2}, \\quad & m=i+1,\\;n=j\\\\\n",
    "0, & \\quad \\text{otherwise}\n",
    "\\end{cases}}}\n",
    "$$"
   ],
   "metadata": {
    "collapsed": false
   }
  }
 ],
 "metadata": {
  "kernelspec": {
   "display_name": "Python 3",
   "language": "python",
   "name": "python3"
  },
  "language_info": {
   "codemirror_mode": {
    "name": "ipython",
    "version": 2
   },
   "file_extension": ".py",
   "mimetype": "text/x-python",
   "name": "python",
   "nbconvert_exporter": "python",
   "pygments_lexer": "ipython2",
   "version": "2.7.6"
  }
 },
 "nbformat": 4,
 "nbformat_minor": 0
}
