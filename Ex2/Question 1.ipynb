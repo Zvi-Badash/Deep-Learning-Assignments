{
 "cells": [
  {
   "cell_type": "markdown",
   "source": [
    "# Zvi Badash 214553034\n",
    "### Question 1 - Discrete Distribution Tensor Sampler"
   ],
   "metadata": {
    "collapsed": false
   }
  },
  {
   "cell_type": "markdown",
   "source": [
    "As instructed, I recorded a video of myself explaining the exercise and the code I wrote for it.\n",
    "The video unfortunately has a watermark, but I hope it won't be in the way of understanding the code.\n",
    "\n",
    "[Exercise 12 - My Sampler](https://youtu.be/VHfUC44Y9ek)\n"
   ],
   "metadata": {
    "collapsed": false
   }
  },
  {
   "cell_type": "markdown",
   "source": [
    "## Imports and type aliases"
   ],
   "metadata": {
    "collapsed": false
   }
  },
  {
   "cell_type": "code",
   "execution_count": 1,
   "metadata": {
    "collapsed": true
   },
   "outputs": [],
   "source": [
    "from typing import List, Tuple\n",
    "\n",
    "import torch\n",
    "import matplotlib.pyplot as plt"
   ]
  },
  {
   "cell_type": "code",
   "execution_count": 2,
   "outputs": [],
   "source": [
    "Size = torch.Size\n",
    "Tensor = torch.Tensor"
   ],
   "metadata": {
    "collapsed": false
   }
  },
  {
   "cell_type": "markdown",
   "source": [
    "## Implementation"
   ],
   "metadata": {
    "collapsed": false
   }
  },
  {
   "cell_type": "code",
   "execution_count": 3,
   "outputs": [],
   "source": [
    "def valid_dist(dist: List[float]) -> bool:\n",
    "    positive = all(p > 0 for p in dist)\n",
    "    sum_to_1 = abs(sum(dist) - 1.) < 1e-5\n",
    "    return sum_to_1 and positive"
   ],
   "metadata": {
    "collapsed": false
   }
  },
  {
   "cell_type": "code",
   "execution_count": 4,
   "outputs": [],
   "source": [
    "def my_sampler(size: Tuple[int, ...], dist: List[float], requires_grad: bool=False) -> Tensor:\n",
    "    \"\"\"\n",
    "    Samples a tensor of size `size` from the discrete distribution over [0, len(dist)] with probabilities `dist`.\n",
    "    :param size: The size of the tensor to sample\n",
    "    :param dist: The distribution to sample from\n",
    "    :param requires_grad: Same as `requires_grad` in torch's implementation\n",
    "    :return:\n",
    "    \"\"\"\n",
    "    if not valid_dist(dist): # Check that the distribution is indeed valid\n",
    "        raise RuntimeError('Distribution must have sum 1 and have all strictly positive probabilities')\n",
    "\n",
    "    U = torch.rand(size) # Sample from uniform distribution, as per the sampling algorithm\n",
    "    cum_dist = torch.tensor(dist).cumsum(dim=0) # Compute the cumulative distribution of `dist`\n",
    "\n",
    "    with torch.no_grad(): # We don't need to compute gradients for this operation\n",
    "        sampled = torch.zeros_like(U, requires_grad=requires_grad) # Initialize the sampled tensor\n",
    "        for i, p in enumerate(cum_dist):\n",
    "            sampled[U >= p] = i + 1 # Assign the newly sampled value to some elements of `sampled`\n",
    "    return sampled"
   ],
   "metadata": {
    "collapsed": false
   }
  },
  {
   "cell_type": "markdown",
   "source": [
    "## Test the sampler"
   ],
   "metadata": {
    "collapsed": false
   }
  },
  {
   "cell_type": "code",
   "execution_count": 5,
   "outputs": [
    {
     "data": {
      "text/plain": "(tensor([[[2., 2., 2., 2.],\n          [1., 2., 2., 2.],\n          [0., 0., 2., 2.]],\n \n         [[2., 2., 0., 2.],\n          [2., 2., 0., 2.],\n          [2., 2., 0., 1.]]]),\n False)"
     },
     "execution_count": 5,
     "metadata": {},
     "output_type": "execute_result"
    }
   ],
   "source": [
    "# A basic test to check that the sampling works\n",
    "A = my_sampler((2, 3, 4), [0.1, 0.2, 0.7])\n",
    "A, A.requires_grad"
   ],
   "metadata": {
    "collapsed": false
   }
  },
  {
   "cell_type": "code",
   "execution_count": 6,
   "outputs": [
    {
     "data": {
      "text/plain": "<BarContainer object of 3 artists>"
     },
     "execution_count": 6,
     "metadata": {},
     "output_type": "execute_result"
    },
    {
     "data": {
      "text/plain": "<Figure size 640x480 with 1 Axes>",
      "image/png": "[encoded data removed]"
     },
     "metadata": {},
     "output_type": "display_data"
    }
   ],
   "source": [
    "# Check that the distribution is indeed correct\n",
    "B = my_sampler((10_000,), [0.1, 0.2, 0.7])\n",
    "plt.bar(*torch.unique(B, return_counts=True))"
   ],
   "metadata": {
    "collapsed": false
   }
  },
  {
   "cell_type": "code",
   "execution_count": 7,
   "outputs": [
    {
     "data": {
      "text/plain": "(tensor([[2., 0., 2., 2., 2., 0., 2., 2.],\n         [2., 0., 0., 1., 0., 2., 2., 2.]], requires_grad=True),\n None)"
     },
     "execution_count": 7,
     "metadata": {},
     "output_type": "execute_result"
    }
   ],
   "source": [
    "# Use the test from the question\n",
    "C = my_sampler((2, 8), [0.1, 0.2, 0.7], requires_grad=True)\n",
    "C, C.grad"
   ],
   "metadata": {
    "collapsed": false
   }
  }
 ],
 "metadata": {
  "kernelspec": {
   "display_name": "Python 3",
   "language": "python",
   "name": "python3"
  },
  "language_info": {
   "codemirror_mode": {
    "name": "ipython",
    "version": 2
   },
   "file_extension": ".py",
   "mimetype": "text/x-python",
   "name": "python",
   "nbconvert_exporter": "python",
   "pygments_lexer": "ipython2",
   "version": "2.7.6"
  }
 },
 "nbformat": 4,
 "nbformat_minor": 0
}
