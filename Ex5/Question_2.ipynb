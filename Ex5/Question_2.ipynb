{
  "cells": [
    {
      "cell_type": "markdown",
      "metadata": {
        "collapsed": false,
        "id": "bFaOgRoE1xuN"
      },
      "source": [
        "# Zvi Badash 214553034\n",
        "## Assignment 17\n",
        "### Question 2 - Implementing a Textual Denoising Autoencoder\n",
        "The video explaining the exercise can be found [here](https://youtu.be/5s7z2aDHATs)"
      ]
    },
    {
      "cell_type": "markdown",
      "metadata": {
        "collapsed": false,
        "id": "nD9_T5hR1xuT"
      },
      "source": [
        "## Imports"
      ]
    },
    {
      "cell_type": "code",
      "execution_count": null,
      "metadata": {
        "id": "Gv085rYR1xuT",
        "colab": {
          "base_uri": "https://localhost:8080/"
        },
        "outputId": "95abb59f-c22d-4a83-b403-118aac23c251"
      },
      "outputs": [
        {
          "output_type": "stream",
          "name": "stdout",
          "text": [
            "Looking in indexes: https://pypi.org/simple, https://us-python.pkg.dev/colab-wheels/public/simple/\n",
            "Collecting portalocker>=2.0.0\n",
            "  Downloading portalocker-2.7.0-py2.py3-none-any.whl (15 kB)\n",
            "Installing collected packages: portalocker\n",
            "Successfully installed portalocker-2.7.0\n"
          ]
        }
      ],
      "source": [
        "!pip install 'portalocker>=2.0.0'"
      ]
    },
    {
      "cell_type": "code",
      "source": [
        "import random\n",
        "import torch\n",
        "import re\n",
        "import nltk\n",
        "from nltk.corpus import stopwords\n",
        "from tqdm.notebook import tqdm\n",
        "from torch import nn\n",
        "from torchtext.datasets import IMDB\n",
        "from torchtext.data.utils import get_tokenizer\n",
        "from torchtext.vocab import build_vocab_from_iterator\n",
        "import matplotlib.pyplot as plt"
      ],
      "metadata": {
        "id": "c1aPAfyiK-Rg"
      },
      "execution_count": null,
      "outputs": []
    },
    {
      "cell_type": "code",
      "source": [
        "nltk.download('stopwords')"
      ],
      "metadata": {
        "colab": {
          "base_uri": "https://localhost:8080/"
        },
        "id": "5eYn6nB5K8Fu",
        "outputId": "c583f146-6c7b-4ab1-f48c-939d6d0f7a88"
      },
      "execution_count": null,
      "outputs": [
        {
          "output_type": "stream",
          "name": "stderr",
          "text": [
            "[nltk_data] Downloading package stopwords to /root/nltk_data...\n",
            "[nltk_data]   Unzipping corpora/stopwords.zip.\n"
          ]
        },
        {
          "output_type": "execute_result",
          "data": {
            "text/plain": [
              "True"
            ]
          },
          "metadata": {},
          "execution_count": 3
        }
      ]
    },
    {
      "cell_type": "markdown",
      "metadata": {
        "collapsed": false,
        "id": "QhGNB7Ql1xuV"
      },
      "source": [
        "## Deciding on a dataset\n",
        "wasn't really easy because the question did not give away too much details, but I ended up choosing the IMDB dataset.\n",
        "\n",
        "The dataset allows me to use the learned encoder for later classification downstream task, and from what I gathered it was pretty easy to work with it and TorchText together."
      ]
    },
    {
      "cell_type": "code",
      "execution_count": null,
      "metadata": {
        "id": "rVoPhHJs1xuV"
      },
      "outputs": [],
      "source": [
        "train_dataset, test_dataset = IMDB(split=('train', 'test'))\n",
        "train_dataset = list(train_dataset)"
      ]
    },
    {
      "cell_type": "code",
      "source": [
        "_, train_sentences = zip(*train_dataset)"
      ],
      "metadata": {
        "id": "KSD6sLzcI-VO"
      },
      "execution_count": null,
      "outputs": []
    },
    {
      "cell_type": "markdown",
      "source": [
        "## Cleaning the data, as it's quite irregular\n",
        "I copied this section from https://www.kaggle.com/code/grigol1/applying-lstm-to-sentiment-analysis-imdb-reviews."
      ],
      "metadata": {
        "id": "J8jTueW1InKX"
      }
    },
    {
      "cell_type": "code",
      "source": [
        "STOPWORDS = set(stopwords.words('english'))\n",
        "def preprocess_text(text):\n",
        "    text = text.lower() # lowercase text\n",
        "    text = ' '.join(word for word in text.split() if word not in STOPWORDS) # remove stopwords from text\n",
        "    text = re.sub(r'\\W', ' ', text) # Remove all the special characters\n",
        "    text = re.sub(r'\\s+[a-zA-Z]\\s+', ' ', text)  # remove all single characters\n",
        "    text = re.sub(r'\\^[a-zA-Z]\\s+', ' ', text) # Remove single characters from the start\n",
        "    text = re.sub(r'\\s+', ' ', text, flags=re.I) # Substituting multiple spaces with single space\n",
        "    return text"
      ],
      "metadata": {
        "id": "7xHR-OB1Ir7l"
      },
      "execution_count": null,
      "outputs": []
    },
    {
      "cell_type": "code",
      "source": [
        "train_sentences = list(map(preprocess_text, train_sentences))"
      ],
      "metadata": {
        "id": "hHDQYyU4JOx9"
      },
      "execution_count": null,
      "outputs": []
    },
    {
      "cell_type": "markdown",
      "metadata": {
        "collapsed": false,
        "id": "MHLRQ1mb1xuW"
      },
      "source": [
        "## Tokenization and filtering\n",
        "\n",
        "For the tokenizer I decided going with a simple split/lower case letters/punctuation normalization tokenizer because I didn't want to use too difficult models that would only complicate my workflow."
      ]
    },
    {
      "cell_type": "code",
      "execution_count": null,
      "metadata": {
        "id": "ht9C6ILL1xuW"
      },
      "outputs": [],
      "source": [
        "tokenizer = get_tokenizer('basic_english')"
      ]
    },
    {
      "cell_type": "markdown",
      "metadata": {
        "id": "ucXuZuvG794l"
      },
      "source": [
        "Like in the study guide, I filtered the dataset and chose to train only on sentences with 200 tokens or less."
      ]
    },
    {
      "cell_type": "code",
      "execution_count": null,
      "metadata": {
        "id": "M4nOpoTIKGhv"
      },
      "outputs": [],
      "source": [
        "MAX_LENGTH = 200\n",
        "sentence_filter = lambda x: len(x) <= MAX_LENGTH"
      ]
    },
    {
      "cell_type": "code",
      "execution_count": null,
      "metadata": {
        "id": "jLCiWsa71xuX"
      },
      "outputs": [],
      "source": [
        "train_sentences_tokenized = map(tokenizer, train_sentences)"
      ]
    },
    {
      "cell_type": "code",
      "execution_count": null,
      "metadata": {
        "id": "K4aL9u02KOH2"
      },
      "outputs": [],
      "source": [
        "train_sentences_tokenized = filter(sentence_filter, train_sentences_tokenized)"
      ]
    },
    {
      "cell_type": "code",
      "execution_count": null,
      "metadata": {
        "id": "wY6ONvKBKf02"
      },
      "outputs": [],
      "source": [
        "train_sentences_tokenized = list(train_sentences_tokenized)"
      ]
    },
    {
      "cell_type": "markdown",
      "metadata": {
        "id": "ttJPs1Sr8Rhs"
      },
      "source": [
        "Shuffle the dataset to randomize training and lowering bias (the sentences are grouped with respect to each movie)"
      ]
    },
    {
      "cell_type": "code",
      "execution_count": null,
      "metadata": {
        "id": "6DMWnyVvLz32"
      },
      "outputs": [],
      "source": [
        "random.shuffle(train_sentences_tokenized)"
      ]
    },
    {
      "cell_type": "markdown",
      "metadata": {
        "collapsed": false,
        "id": "gL4QaZO_1xuX"
      },
      "source": [
        "## Creating the vocabulary\n",
        "\n",
        "My vocabulary has special \\<START\\> and \\<END\\> tokens because I thought it would help training but it seems like it didn't, so in retrospect it might've been redundant.\n",
        "\n",
        "The vocab also has a \\<DROPPED\\> token that is used to signal to the model which words has been accidentally deleted (or purposefully redacted)"
      ]
    },
    {
      "cell_type": "code",
      "execution_count": null,
      "metadata": {
        "id": "xkvlgDY51xuY"
      },
      "outputs": [],
      "source": [
        "vocab = build_vocab_from_iterator(train_sentences_tokenized, min_freq=2, specials=['<UNK>', '<START>', '<END>', '<DROPPED>'])\n",
        "vocab.set_default_index(0)"
      ]
    },
    {
      "cell_type": "code",
      "source": [
        "start_token_index = vocab.get_stoi()['<START>']\n",
        "end_token_index = vocab.get_stoi()['<END>']\n",
        "unk_token_index = vocab.get_stoi()['<UNK>']\n",
        "dropped_token_index = vocab.get_stoi()['<DROPPED>']"
      ],
      "metadata": {
        "id": "NF3VRM4IrTmQ"
      },
      "execution_count": null,
      "outputs": []
    },
    {
      "cell_type": "markdown",
      "metadata": {
        "collapsed": false,
        "id": "QTYHqo2M1xuY"
      },
      "source": [
        "## Creating the noisy dataset by corrupting the train sentences\n",
        "\n",
        "As I mentioned earlier the method that I used to corrupt the sentences was to randomly drop a few tokens in each sequence (I didn't use a dropout layer because I replaced the tokens and not completly discarded them). The tokens are replaced with a \\<DROPPED\\> token to signal to the model they need replacement.\n",
        "\n",
        "I chose this corruption because it's word-level and not character-level, and because I found it both easy to implement and useful (perhaps this kind of model can be used to un-redact classified documents or help with archaeological reconstruction of ancient scrolls)."
      ]
    },
    {
      "cell_type": "code",
      "execution_count": null,
      "metadata": {
        "id": "4bBqjtZy1xuY"
      },
      "outputs": [],
      "source": [
        "p = 0.075\n",
        "delete_random_word = lambda sentence: [word if random.random() > p else '<DROPPED>' for word in sentence]\n",
        "corrupt_sentence = lambda sentence: delete_random_word(sentence)"
      ]
    },
    {
      "cell_type": "code",
      "execution_count": null,
      "metadata": {
        "id": "sGii5Y_y1xuZ"
      },
      "outputs": [],
      "source": [
        "train_sentences_clean = train_sentences_tokenized.copy()"
      ]
    },
    {
      "cell_type": "code",
      "execution_count": null,
      "metadata": {
        "id": "QSREBCiE1xuZ"
      },
      "outputs": [],
      "source": [
        "train_sentences_noisy = [corrupt_sentence(sentence) for sentence in train_sentences_clean.copy()]"
      ]
    },
    {
      "cell_type": "markdown",
      "metadata": {
        "collapsed": false,
        "id": "kkx1sGAF1xuZ"
      },
      "source": [
        "## Padding the sentences with \\<START\\> and \\<END\\>"
      ]
    },
    {
      "cell_type": "code",
      "execution_count": null,
      "metadata": {
        "id": "nureHpgk1xua"
      },
      "outputs": [],
      "source": [
        "train_sentences_clean = [['<START>'] + sentence + ['<END>'] for sentence in train_sentences_clean]\n",
        "train_sentences_noisy = [['<START>'] + sentence + ['<END>'] for sentence in train_sentences_noisy]"
      ]
    },
    {
      "cell_type": "code",
      "execution_count": null,
      "metadata": {
        "id": "g5ATf4qG1xua"
      },
      "outputs": [],
      "source": [
        "stoi = lambda x: torch.tensor(vocab(x))"
      ]
    },
    {
      "cell_type": "code",
      "execution_count": null,
      "metadata": {
        "id": "mYy8lek01xua"
      },
      "outputs": [],
      "source": [
        "train_sentences_clean_ints = list(map(stoi, train_sentences_clean))\n",
        "train_sentences_noisy_ints = list(map(stoi, train_sentences_noisy))"
      ]
    },
    {
      "cell_type": "markdown",
      "metadata": {
        "id": "CedpYfYw-TOf"
      },
      "source": [
        "## Looking at an example from the data"
      ]
    },
    {
      "cell_type": "code",
      "source": [
        "itos = lambda t: vocab.get_itos()[t.item()]"
      ],
      "metadata": {
        "id": "2jCT2bp_gUIP"
      },
      "execution_count": null,
      "outputs": []
    },
    {
      "cell_type": "code",
      "execution_count": null,
      "metadata": {
        "id": "DHDy7M0PK3pW"
      },
      "outputs": [],
      "source": [
        "clean_example = list(map(itos, train_sentences_clean_ints[67]))\n",
        "noisy_example = list(map(itos, train_sentences_noisy_ints[67]))"
      ]
    },
    {
      "cell_type": "code",
      "execution_count": null,
      "metadata": {
        "colab": {
          "base_uri": "https://localhost:8080/"
        },
        "id": "kQivevMHK_YN",
        "outputId": "5d4840a1-ee4e-4177-b29d-fcd5ef6ec3a5"
      },
      "outputs": [
        {
          "output_type": "execute_result",
          "data": {
            "text/plain": [
              "'<START> watched film beginning end promised friend would lacks even unintentional entertainment value many bad films have may worst film ever seen m surprised distributor put name it <END>'"
            ],
            "application/vnd.google.colaboratory.intrinsic+json": {
              "type": "string"
            }
          },
          "metadata": {},
          "execution_count": 24
        }
      ],
      "source": [
        "' '.join(clean_example)"
      ]
    },
    {
      "cell_type": "code",
      "execution_count": null,
      "metadata": {
        "colab": {
          "base_uri": "https://localhost:8080/"
        },
        "id": "RXYazkyELCtF",
        "outputId": "1fd94734-4662-4b1e-a81b-96e5af5e3780"
      },
      "outputs": [
        {
          "output_type": "execute_result",
          "data": {
            "text/plain": [
              "'<START> watched film beginning end promised friend would lacks even unintentional entertainment value many bad films have <DROPPED> worst film ever seen m surprised distributor put name it <END>'"
            ],
            "application/vnd.google.colaboratory.intrinsic+json": {
              "type": "string"
            }
          },
          "metadata": {},
          "execution_count": 25
        }
      ],
      "source": [
        "' '.join(noisy_example)"
      ]
    },
    {
      "cell_type": "markdown",
      "metadata": {
        "id": "aSTa1Imn-aqu"
      },
      "source": [
        "## Even after filtering\n",
        "\n",
        "The model has ~20K examples to learn from, more than enough in my opinion."
      ]
    },
    {
      "cell_type": "code",
      "execution_count": null,
      "metadata": {
        "colab": {
          "base_uri": "https://localhost:8080/"
        },
        "id": "PBKvcIk4NXed",
        "outputId": "ed2d3cb1-981d-4d19-b9af-278861f996cc"
      },
      "outputs": [
        {
          "output_type": "execute_result",
          "data": {
            "text/plain": [
              "20689"
            ]
          },
          "metadata": {},
          "execution_count": 26
        }
      ],
      "source": [
        "len(train_sentences_clean_ints)"
      ]
    },
    {
      "cell_type": "markdown",
      "metadata": {
        "id": "dBYmmVJDlIm4"
      },
      "source": [
        "## Defining the model\n",
        "\n",
        "To implement the model I tried aiming for the simplest model possible,\n",
        "\n",
        "The encoder and the decoder are simple LSTM cells and the decoder returns a probabillity distribution (softmax) of the next word at each step."
      ]
    },
    {
      "cell_type": "code",
      "execution_count": null,
      "metadata": {
        "id": "4uaIoGmvlPGc"
      },
      "outputs": [],
      "source": [
        "class DAE(nn.Module):\n",
        "    def __init__(self, embedding_dim, hidden_dim, num_layers=2):\n",
        "        super(DAE, self).__init__()\n",
        "        self.embedding = nn.Embedding(len(vocab), embedding_dim)\n",
        "        self.encoder = nn.LSTM(embedding_dim, hidden_dim, num_layers=num_layers)\n",
        "        self.decoder = nn.LSTM(hidden_dim, embedding_dim, num_layers=num_layers)\n",
        "        self.fc = nn.Linear(embedding_dim, len(vocab))\n",
        "\n",
        "    def forward(self, input_seq):\n",
        "        embedded = self.embedding(input_seq)\n",
        "        encoded_outputs, _ = self.encoder(embedded)\n",
        "        decoded_outputs, _ = self.decoder(encoded_outputs)\n",
        "        word_logits = self.fc(decoded_outputs)\n",
        "        return word_logits"
      ]
    },
    {
      "cell_type": "code",
      "source": [
        "class Seq2SeqDAE(nn.Module):\n",
        "    def __init__(self, hidden_dim, num_layers, dropout):\n",
        "        super(DAE, self).__init__()\n",
        "\n",
        "        self.hidden_dim = hidden_dim\n",
        "        self.num_layers = num_layers\n",
        "\n",
        "        self.embedding = nn.Embedding(len(vocab), hidden_dim)\n",
        "        self.encoder   = nn.LSTM(hidden_dim, hidden_dim, num_layers, dropout=dropout)\n",
        "        self.decoder   = nn.LSTM(hidden_dim, hidden_dim, num_layers, dropout=dropout)\n",
        "        self.fc        = nn.Linear(hidden_dim, len(vocab))\n",
        "        self.dropout   = nn.Dropout(dropout)\n",
        "\n",
        "    def forward(self, src, trg):\n",
        "        src_emb = self.dropout(self.embedding(src))\n",
        "        trg_emb = self.dropout(self.embedding(trg))\n",
        "\n",
        "        _, contexts = self.encoder(src_emb)\n",
        "        output, _ = self.decoder(trg_emb, contexts)\n",
        "\n",
        "        return self.fc(output)\n",
        "\n",
        "    def evaluate_sentence(self, sentence):\n",
        "        self.eval()\n",
        "        with torch.no_grad():\n",
        "            sentence = sentence.unsqueeze(1)\n",
        "            src_emb = self.embedding(sentence)\n",
        "            _, (hidden, cell) = self.encoder(src_emb)\n",
        "\n",
        "            output = torch.tensor([[START_TOKEN]])\n",
        "            outputs = []\n",
        "\n",
        "            for _ in range(MAX_LENGTH):\n",
        "                output_emb = self.embedding(output)\n",
        "                output, (hidden, cell) = self.decoder(output_emb, (hidden.expand(-1, 1, -1), cell.expand(-1, 1, -1)))\n",
        "                output = self.fc(output.squeeze(0))\n",
        "                generated_token = torch.argmax(output, dim=1)\n",
        "                outputs.append(generated_token.item())\n",
        "                if generated_token.item() == END_TOKEN:\n",
        "                    break\n",
        "                output = generated_token.unsqueeze(0)\n",
        "\n",
        "        generated_sentence = [vocab.get_itos()[token] for token in outputs]\n",
        "        return ' '.join(generated_sentence)"
      ],
      "metadata": {
        "id": "IILcSIE9zUan"
      },
      "execution_count": null,
      "outputs": []
    },
    {
      "cell_type": "markdown",
      "metadata": {
        "id": "Y_ZxO7kJlIXo"
      },
      "source": [
        "## Training\n",
        "\n",
        "I used a typical training loop for training the model, but it's worth talking about the loss function --\n",
        "\n",
        "As with any autoencoder I decided that I should encode the noisy sentence, decode it, and receive a \"reconstructed\" version of it.\n",
        "\n",
        "This version is trained to be as close as possible to the clean, original sentence in means of a probabillity distribution of the liklihood of each token in the sequence."
      ]
    },
    {
      "cell_type": "code",
      "execution_count": null,
      "metadata": {
        "id": "P140XVw_lTfc"
      },
      "outputs": [],
      "source": [
        "# model = DAE(250, 200, 2)\n",
        "# criterion = nn.CrossEntropyLoss()\n",
        "# optimizer = torch.optim.Adam(model.parameters(), lr=0.001)"
      ]
    },
    {
      "cell_type": "code",
      "execution_count": null,
      "metadata": {
        "id": "O6dwKLgqlTU9"
      },
      "outputs": [],
      "source": [
        "# def iterate_one_pair(input_seq, target_seq):\n",
        "#     optimizer.zero_grad()\n",
        "#     reconstructed_seq = model(input_seq)\n",
        "#     loss = criterion(reconstructed_seq, target_seq)\n",
        "#     loss.backward()\n",
        "#     optimizer.step()\n",
        "#     return loss.item()"
      ]
    },
    {
      "cell_type": "code",
      "execution_count": null,
      "metadata": {
        "id": "47xv-X4TluN_"
      },
      "outputs": [],
      "source": [
        "# num_samples, epochs = 2500, 10\n",
        "# epoch_losses = []"
      ]
    },
    {
      "cell_type": "code",
      "execution_count": null,
      "metadata": {
        "id": "wSgmwn15luOG"
      },
      "outputs": [],
      "source": [
        "# %%time\n",
        "# for epoch in range(epochs):\n",
        "#     torch.save(model.state_dict(), f'DAE_model_epoch:{epoch}.pth')\n",
        "#     batch_loss_agg = torch.tensor([0.])\n",
        "\n",
        "#     for idx in tqdm(range(num_samples)):\n",
        "#         batch_loss_agg += iterate_one_pair(train_sentences_noisy_ints[idx], train_sentences_clean_ints[idx])\n",
        "\n",
        "#     epoch_loss = batch_loss_agg / num_samples\n",
        "#     epoch_losses.append(epoch_loss)\n",
        "#     print(\"Epoch\", epoch, \" loss:\", epoch_loss.item())"
      ]
    },
    {
      "cell_type": "code",
      "execution_count": null,
      "metadata": {
        "id": "fGNXO7R3luOH"
      },
      "outputs": [],
      "source": [
        "# plt.plot(epoch_losses)"
      ]
    },
    {
      "cell_type": "markdown",
      "source": [
        "## Testing the model on a previously unseen senetence"
      ],
      "metadata": {
        "id": "WEkKDY39dCmb"
      }
    },
    {
      "cell_type": "code",
      "execution_count": null,
      "metadata": {
        "id": "GCINDPvzmun5"
      },
      "outputs": [],
      "source": [
        "def evaluate_max_word(eval_model, input_seq):\n",
        "    eval_model.eval()\n",
        "    reconstructed_seq = eval_model(input_seq)\n",
        "    cleaned_seq_int = torch.argmax(reconstructed_seq, dim=1)\n",
        "    cleaned_seq = [vocab.get_itos()[x] for x in cleaned_seq_int]\n",
        "    return cleaned_seq"
      ]
    },
    {
      "cell_type": "code",
      "execution_count": null,
      "metadata": {
        "id": "Kp-LnYdQ6SBK"
      },
      "outputs": [],
      "source": [
        "test_idx = 4564"
      ]
    },
    {
      "cell_type": "code",
      "source": [
        "trained_model = DAE(250, 200, 2)\n",
        "untrained_model = DAE(250, 200, 2)"
      ],
      "metadata": {
        "id": "5wwnoCAifJm0"
      },
      "execution_count": null,
      "outputs": []
    },
    {
      "cell_type": "code",
      "source": [
        "trained_model.load_state_dict(torch.load('DAE_model_epoch:9.pth'))\n",
        "untrained_model.load_state_dict(torch.load('DAE_model_epoch:0.pth'))"
      ],
      "metadata": {
        "id": "FrFYeHTKfWNg"
      },
      "execution_count": null,
      "outputs": []
    },
    {
      "cell_type": "code",
      "execution_count": null,
      "metadata": {
        "id": "7c6up1HPmuci"
      },
      "outputs": [],
      "source": [
        "denoised_untrained = evaluate_max_word(untrained_model, train_sentences_noisy_ints[test_idx])\n",
        "denoised_trained = evaluate_max_word(trained_model, train_sentences_noisy_ints[test_idx])\n",
        "clean = list(map(itos, train_sentences_clean_ints[test_idx]))\n",
        "dirty = list(map(itos, train_sentences_noisy_ints[test_idx]))"
      ]
    },
    {
      "cell_type": "code",
      "execution_count": null,
      "metadata": {
        "id": "OnP0TYVjooBT",
        "colab": {
          "base_uri": "https://localhost:8080/",
          "height": 52
        },
        "outputId": "80e01374-82f7-4b80-a8aa-bfe8763ca0df"
      },
      "outputs": [
        {
          "output_type": "execute_result",
          "data": {
            "text/plain": [
              "'romp romp romp romp romp romp romp romp romp romp romp romp romp romp romp romp romp romp romp romp romp romp romp romp romp romp romp romp romp romp romp romp romp romp romp romp romp romp romp romp romp romp romp romp romp romp romp romp romp romp romp romp romp romp romp romp romp romp romp romp'"
            ],
            "application/vnd.google.colaboratory.intrinsic+json": {
              "type": "string"
            }
          },
          "metadata": {},
          "execution_count": 40
        }
      ],
      "source": [
        "' '.join(denoised_untrained)"
      ]
    },
    {
      "cell_type": "code",
      "source": [
        "' '.join(denoised_trained)"
      ],
      "metadata": {
        "id": "c4sTLlrgftOP",
        "colab": {
          "base_uri": "https://localhost:8080/",
          "height": 52
        },
        "outputId": "cb764ed7-5955-459b-ca37-34d4d87e5317"
      },
      "execution_count": null,
      "outputs": [
        {
          "output_type": "execute_result",
          "data": {
            "text/plain": [
              "'<START> one film actual teenager took place pulled war eyed kept attention end yours viewing it ever read morgan bucks curious see cowgirls direct off movie historical films era br br my major sandler rhode environment look good acting little stiff times like old man names combining kong golden paris soldier playing rates models film strange overall aankhen film <END>'"
            ],
            "application/vnd.google.colaboratory.intrinsic+json": {
              "type": "string"
            }
          },
          "metadata": {},
          "execution_count": 41
        }
      ]
    },
    {
      "cell_type": "code",
      "execution_count": null,
      "metadata": {
        "id": "8qPGtZO7owQo",
        "colab": {
          "base_uri": "https://localhost:8080/",
          "height": 52
        },
        "outputId": "6e6ab688-62bf-43d3-f784-542f13031424"
      },
      "outputs": [
        {
          "output_type": "execute_result",
          "data": {
            "text/plain": [
              "'<START> interesting film actual event took place civil war vermont kept attention end regret viewing it ever read raid incident curious see rebels pulled off enjoy historical films era br br my major complaint confederate uniforms look good acting little stiff times like old man eating mashed potatoes teeth wounded soldier playing fetch hound little strange overall descent film <END>'"
            ],
            "application/vnd.google.colaboratory.intrinsic+json": {
              "type": "string"
            }
          },
          "metadata": {},
          "execution_count": 42
        }
      ],
      "source": [
        "' '.join(clean)"
      ]
    },
    {
      "cell_type": "code",
      "execution_count": null,
      "metadata": {
        "id": "Kx1ZPQTJo1tI",
        "colab": {
          "base_uri": "https://localhost:8080/",
          "height": 52
        },
        "outputId": "6f3600cd-dd19-4e61-80cd-9cb73e002dea"
      },
      "outputs": [
        {
          "output_type": "execute_result",
          "data": {
            "text/plain": [
              "'<START> <DROPPED> film actual event took place civil war vermont kept attention end regret viewing it ever read raid incident curious see rebels pulled off <DROPPED> historical films era br br my major complaint confederate uniforms look good acting little stiff times like old man eating mashed potatoes teeth wounded soldier playing fetch hound <DROPPED> strange overall descent film <END>'"
            ],
            "application/vnd.google.colaboratory.intrinsic+json": {
              "type": "string"
            }
          },
          "metadata": {},
          "execution_count": 43
        }
      ],
      "source": [
        "' '.join(dirty)"
      ]
    },
    {
      "cell_type": "markdown",
      "source": [
        "## Downstream tasks\n",
        "\n",
        "Or, using the model for a classification mission"
      ],
      "metadata": {
        "id": "pwovlp-OgySP"
      }
    },
    {
      "cell_type": "markdown",
      "source": [
        "### Handle data loading"
      ],
      "metadata": {
        "id": "7e7FyNGU8oVL"
      }
    },
    {
      "cell_type": "code",
      "source": [
        "train_dataset, test_dataset = IMDB(split=('train', 'test'))"
      ],
      "metadata": {
        "id": "Wa9rOXZNibz_"
      },
      "execution_count": null,
      "outputs": []
    },
    {
      "cell_type": "code",
      "source": [
        "train_dataset = list(train_dataset)\n",
        "test_dataset = list(test_dataset)"
      ],
      "metadata": {
        "id": "XkOctkcEFq2N"
      },
      "execution_count": null,
      "outputs": []
    },
    {
      "cell_type": "code",
      "source": [
        "random.shuffle(train_dataset)\n",
        "random.shuffle(test_dataset)"
      ],
      "metadata": {
        "id": "u0PgG3ZmFnXt"
      },
      "execution_count": null,
      "outputs": []
    },
    {
      "cell_type": "code",
      "source": [
        "train_labels, train_sentences = zip(*train_dataset)\n",
        "test_labels, test_sentences = zip(*test_dataset)"
      ],
      "metadata": {
        "id": "lhLK1PJLmsDK"
      },
      "execution_count": null,
      "outputs": []
    },
    {
      "cell_type": "code",
      "source": [
        "train_sentences = list(map(preprocess_text, train_sentences))\n",
        "test_sentences = list(map(preprocess_text, test_sentences))"
      ],
      "metadata": {
        "id": "X4nvvl7y8uRs"
      },
      "execution_count": null,
      "outputs": []
    },
    {
      "cell_type": "code",
      "source": [
        "train_sentences = map(tokenizer, train_sentences)\n",
        "test_sentences = map(tokenizer, test_sentences)"
      ],
      "metadata": {
        "id": "T73wY6v2mr7T"
      },
      "execution_count": null,
      "outputs": []
    },
    {
      "cell_type": "code",
      "source": [
        "train_sentences = filter(sentence_filter, train_sentences)\n",
        "test_sentences = filter(sentence_filter, test_sentences)"
      ],
      "metadata": {
        "id": "T32fPda3mrxv"
      },
      "execution_count": null,
      "outputs": []
    },
    {
      "cell_type": "code",
      "source": [
        "train_sentences = list(train_sentences)\n",
        "test_sentences = list(test_sentences)"
      ],
      "metadata": {
        "id": "oXal1kdNmrvV"
      },
      "execution_count": null,
      "outputs": []
    },
    {
      "cell_type": "code",
      "source": [
        "train_sentences_ints = list(map(stoi, train_sentences))\n",
        "test_sentences_ints = list(map(stoi, test_sentences))"
      ],
      "metadata": {
        "id": "7w5JAr3UmrtF"
      },
      "execution_count": null,
      "outputs": []
    },
    {
      "cell_type": "markdown",
      "source": [
        "### Model definition\n",
        "\n",
        "The model I chose is the embedding layer, followed by the encoder, followed by\n",
        "a classification head."
      ],
      "metadata": {
        "id": "AiZIro_L86LT"
      }
    },
    {
      "cell_type": "code",
      "source": [
        "class IMDBClassifier(nn.Module):\n",
        "    def __init__(self, DAE):\n",
        "        super(IMDBClassifier, self).__init__()\n",
        "        self.embedding = DAE.embedding\n",
        "        self.encoder = DAE.encoder\n",
        "        self.classification_head = nn.Sequential(\n",
        "            nn.LazyLinear(128), nn.ReLU(), nn.Dropout(0.3),\n",
        "            nn.LazyLinear(32), nn.ReLU(), nn.Dropout(0.3),\n",
        "            nn.LazyLinear(2)\n",
        "        )\n",
        "\n",
        "    def forward(self, input_seq):\n",
        "        embedded = self.embedding(input_seq.unsqueeze(0)).squeeze()\n",
        "        encoded_outputs, _ = self.encoder(embedded)\n",
        "        encoded_outputs = encoded_outputs[-1, :].view(-1)\n",
        "        return self.classification_head(encoded_outputs)"
      ],
      "metadata": {
        "id": "OOvdguJRo8m8"
      },
      "execution_count": null,
      "outputs": []
    },
    {
      "cell_type": "code",
      "source": [
        "classification_model = IMDBClassifier(trained_model)"
      ],
      "metadata": {
        "id": "M5N6Z970p0vF",
        "colab": {
          "base_uri": "https://localhost:8080/"
        },
        "outputId": "07df9b45-5c86-440f-e9ff-60c411b3e0ae"
      },
      "execution_count": null,
      "outputs": [
        {
          "output_type": "stream",
          "name": "stderr",
          "text": [
            "/usr/local/lib/python3.10/dist-packages/torch/nn/modules/lazy.py:180: UserWarning: Lazy modules are a new feature under heavy development so changes to the API or functionality can happen at any moment.\n",
            "  warnings.warn('Lazy modules are a new feature under heavy development '\n"
          ]
        }
      ]
    },
    {
      "cell_type": "code",
      "source": [
        "for p in classification_model.embedding.parameters():\n",
        "    p.requires_grad = False"
      ],
      "metadata": {
        "id": "JSMLQJTQq3hr"
      },
      "execution_count": null,
      "outputs": []
    },
    {
      "cell_type": "code",
      "source": [
        "for p in classification_model.encoder.parameters():\n",
        "    p.requires_grad = False"
      ],
      "metadata": {
        "id": "mFlr0ghtg2xa"
      },
      "execution_count": null,
      "outputs": []
    },
    {
      "cell_type": "markdown",
      "source": [
        "### Training!"
      ],
      "metadata": {
        "id": "Yv8Nx5kw9Hqp"
      }
    },
    {
      "cell_type": "code",
      "source": [
        "criterion = nn.CrossEntropyLoss()\n",
        "optimizer = torch.optim.Adam(classification_model.classification_head.parameters(), lr=0.005)"
      ],
      "metadata": {
        "id": "eycZogbrhm4v"
      },
      "execution_count": null,
      "outputs": []
    },
    {
      "cell_type": "code",
      "source": [
        "num_samples, epochs = 5000, 5\n",
        "epoch_losses = []"
      ],
      "metadata": {
        "id": "A5MYht2olQEV"
      },
      "execution_count": null,
      "outputs": []
    },
    {
      "cell_type": "code",
      "source": [
        "for epoch in range(epochs):\n",
        "    epoch_loss = 0.0\n",
        "\n",
        "    for idx in tqdm(range(num_samples)):\n",
        "        optimizer.zero_grad()\n",
        "        inputs, label = train_sentences_ints[idx], train_labels[idx]\n",
        "        label = torch.tensor([label - 1])\n",
        "        label = nn.functional.one_hot(label, num_classes=2).squeeze()\n",
        "        label = label.type(torch.float)\n",
        "        output = classification_model(inputs)\n",
        "\n",
        "        loss = criterion(output, label)\n",
        "        loss.backward()\n",
        "        optimizer.step()\n",
        "\n",
        "        epoch_loss += loss.item()\n",
        "    epoch_losses.append(epoch_loss)\n",
        "    print(\"Epoch\", epoch, \"loss:\", epoch_loss)"
      ],
      "metadata": {
        "id": "bN-DzQltmyi2",
        "colab": {
          "base_uri": "https://localhost:8080/",
          "referenced_widgets": [
            "86ef4c801c584606a7780c2d299d04d2",
            "a1a6a30a742d451690496a96533f4ba2",
            "5aabb49f909046bbadd268ac30def301",
            "6113f8dfc228432b891bf44519ea6a2f",
            "36b96af335d84b58a1a1da728a0e5e7a",
            "a1f0bdd17b834c7fb6e741372da4a0fc",
            "01982353c33f4598968febb8e8c18557",
            "125bb6e8d738413ca1946fb0d5333763",
            "da25ee7d190f46ec9c1b8ef41195afa0",
            "cf8a195d8f6645459170a7fc94faeddd",
            "31fcdf99ae1a4eb7b7fa291ed48f296f",
            "8b3883ba1e0e40c3b5aa7b64ec7a7bd5",
            "ab80a94028de4428a67d41adb4537f65",
            "0b8fa88ebc0f48f7a116e6eeacf3a6c6",
            "334de81898424a8e9e96af51d97fba38",
            "ab4c18b5ad9446088d9174349b8b8511",
            "0de9f918306347a28112fa8f1b20461f",
            "ebcd2a7d44014ed5be5ba29f3669ad14",
            "7127d429c7a4445ca282d3b427412619",
            "9450b1b4cbb8421bb4fbc003e9a8ccde",
            "2c3dbfe7d13d40b59dda33c2c03532e3",
            "1525d7164f95431abfbb5469a265989f",
            "84025797b8fe4d90ab38f6fed4d010b0",
            "0744ac1f8cdb41fe940de00e40f233f4",
            "e7cd4238f1df4d4e87dc72c2a505ad9e",
            "2cd5b321e04a48278f288043cfed6d73",
            "8e6aa6aeb04842febce4125ea2a7aaab",
            "3c4b1676e5574903aaefefed21eea8d7",
            "2df583fa16704470984fc2cc016d2221",
            "f3d73017bb0445269787a984f974af77",
            "4aba2d8a640a42fd89cb960a9e087750",
            "58b93e8082a2456b82df5cb1d40dd3c7",
            "8353a65f34df4086bcf4861520ba7f3d",
            "ece578f85297450d98efd3a5741a8a91",
            "7243d6435b254986b71f3638ddc59123",
            "acb3a2d872e748ad98a714ae62ff5f84",
            "72ece6968639402dae70e9a6f0a53864",
            "c34fc5dfaea94507a9d7e54ffda0ecd7",
            "7e3b8aca19f7422080a1ca51d6d139dd",
            "6e5e1e03c7a547e299979b86d6f5939d",
            "a934b0a645984027bd753d09eecac11a",
            "29c7cff17e034d45a210441e1006c857",
            "03891e89d5b345c8b2d2007de2b34007",
            "c5fbbe600abe4b4f975c2526d828114b",
            "be17129f16c3436cb0c4134e7dd0134b",
            "28a8870be4344e66b5ddeacaa012a6c7",
            "ad7ceebc803d4ff89ba7d31cbeba30ee",
            "e4ac055cc9ef42e1842062a13e67f86d",
            "4ccdb474e1ef496c957708f9bf4ae38d",
            "f57d954de45a442aba23a0b9b84dbba7",
            "4459db12978448f48ba7b0639e263e5a",
            "45a5b22141cf4c49a4f145727ef68e46",
            "1ee9be64f6ea4b949aec0e5686e7b674",
            "acea66ddcc3e4f6f974d1382cac6e459",
            "a594700a28db45dc854aa6560c783740"
          ]
        },
        "outputId": "d5c06d84-d1a9-40e0-9c99-f66bef92db51"
      },
      "execution_count": null,
      "outputs": [
        {
          "output_type": "display_data",
          "data": {
            "text/plain": [
              "  0%|          | 0/5000 [00:00<?, ?it/s]"
            ],
            "application/vnd.jupyter.widget-view+json": {
              "version_major": 2,
              "version_minor": 0,
              "model_id": "86ef4c801c584606a7780c2d299d04d2"
            }
          },
          "metadata": {}
        },
        {
          "output_type": "stream",
          "name": "stdout",
          "text": [
            "Epoch 0 loss: 3508.877294052392\n"
          ]
        },
        {
          "output_type": "display_data",
          "data": {
            "text/plain": [
              "  0%|          | 0/5000 [00:00<?, ?it/s]"
            ],
            "application/vnd.jupyter.widget-view+json": {
              "version_major": 2,
              "version_minor": 0,
              "model_id": "8b3883ba1e0e40c3b5aa7b64ec7a7bd5"
            }
          },
          "metadata": {}
        },
        {
          "output_type": "stream",
          "name": "stdout",
          "text": [
            "Epoch 1 loss: 3473.967836678028\n"
          ]
        },
        {
          "output_type": "display_data",
          "data": {
            "text/plain": [
              "  0%|          | 0/5000 [00:00<?, ?it/s]"
            ],
            "application/vnd.jupyter.widget-view+json": {
              "version_major": 2,
              "version_minor": 0,
              "model_id": "84025797b8fe4d90ab38f6fed4d010b0"
            }
          },
          "metadata": {}
        },
        {
          "output_type": "stream",
          "name": "stdout",
          "text": [
            "Epoch 2 loss: 3473.092191338539\n"
          ]
        },
        {
          "output_type": "display_data",
          "data": {
            "text/plain": [
              "  0%|          | 0/5000 [00:00<?, ?it/s]"
            ],
            "application/vnd.jupyter.widget-view+json": {
              "version_major": 2,
              "version_minor": 0,
              "model_id": "ece578f85297450d98efd3a5741a8a91"
            }
          },
          "metadata": {}
        },
        {
          "output_type": "stream",
          "name": "stdout",
          "text": [
            "Epoch 3 loss: 3473.08959454298\n"
          ]
        },
        {
          "output_type": "display_data",
          "data": {
            "text/plain": [
              "  0%|          | 0/5000 [00:00<?, ?it/s]"
            ],
            "application/vnd.jupyter.widget-view+json": {
              "version_major": 2,
              "version_minor": 0,
              "model_id": "be17129f16c3436cb0c4134e7dd0134b"
            }
          },
          "metadata": {}
        },
        {
          "output_type": "stream",
          "name": "stdout",
          "text": [
            "Epoch 4 loss: 3473.0895958542824\n"
          ]
        }
      ]
    },
    {
      "cell_type": "markdown",
      "source": [
        "### Testing the model"
      ],
      "metadata": {
        "id": "Ku2ildAC9Kgh"
      }
    },
    {
      "cell_type": "code",
      "source": [
        "def test_IMDb_classification_model():\n",
        "    correct = 0\n",
        "    total = 0\n",
        "    with torch.no_grad():\n",
        "        for idx in tqdm(range(len(test_sentences_ints))[:1000]):\n",
        "            inputs, label = test_sentences_ints[idx], test_labels[idx]\n",
        "            output = classification_model(inputs)\n",
        "            predicted = torch.argmax(output)\n",
        "            total += 1\n",
        "            if predicted.item() == label - 1:\n",
        "                correct += 1\n",
        "    return correct / total"
      ],
      "metadata": {
        "id": "eKCIZVre-xHE"
      },
      "execution_count": null,
      "outputs": []
    },
    {
      "cell_type": "code",
      "source": [
        "f'Model accuracy: {test_IMDb_classification_model() * 100:.2f}%'"
      ],
      "metadata": {
        "id": "KBrvDhSL_Dv9",
        "colab": {
          "base_uri": "https://localhost:8080/",
          "referenced_widgets": [
            "84280086e7a04d31b3148ecb20050981",
            "5b29c65193f74711b457f3b42217453f",
            "138de7afc5b94241b680f82d2336842b",
            "ed03b752a31b472e9dcd5ec1296e25c5",
            "1f6dfcd5ff6b441e9b1ee4d0f1a0ac08",
            "607b92b5ba9e48e8846d32a08609fa78",
            "5b2616ae2bca4fe99140bbaca0d2e3ce",
            "27b7edd70ec3466bb18dd8787b26e334",
            "dbd09051e17f4be489ce1df052a9b9bd",
            "1e3717d328db4f5496e13bb04c113697",
            "a028e94397d245348d3332968a1b9a47"
          ]
        },
        "outputId": "78f47081-a451-4b58-fa04-b5dc9460134b"
      },
      "execution_count": null,
      "outputs": [
        {
          "output_type": "display_data",
          "data": {
            "text/plain": [
              "  0%|          | 0/1000 [00:00<?, ?it/s]"
            ],
            "application/vnd.jupyter.widget-view+json": {
              "version_major": 2,
              "version_minor": 0,
              "model_id": "84280086e7a04d31b3148ecb20050981"
            }
          },
          "metadata": {}
        },
        {
          "output_type": "execute_result",
          "data": {
            "text/plain": [
              "'Model accuracy: 52.40%'"
            ],
            "application/vnd.google.colaboratory.intrinsic+json": {
              "type": "string"
            }
          },
          "metadata": {},
          "execution_count": 61
        }
      ]
    }
  ],
  "metadata": {
    "colab": {
      "provenance": [],
      "gpuType": "V100",
      "collapsed_sections": [
        "nD9_T5hR1xuT",
        "QhGNB7Ql1xuV",
        "J8jTueW1InKX",
        "MHLRQ1mb1xuW",
        "gL4QaZO_1xuX",
        "QTYHqo2M1xuY",
        "kkx1sGAF1xuZ",
        "CedpYfYw-TOf",
        "aSTa1Imn-aqu",
        "dBYmmVJDlIm4",
        "Y_ZxO7kJlIXo",
        "pwovlp-OgySP",
        "7e7FyNGU8oVL",
        "AiZIro_L86LT",
        "Yv8Nx5kw9Hqp",
        "Ku2ildAC9Kgh"
      ]
    },
    "kernelspec": {
      "display_name": "Python 3",
      "name": "python3"
    },
    "language_info": {
      "codemirror_mode": {
        "name": "ipython",
        "version": 2
      },
      "file_extension": ".py",
      "mimetype": "text/x-python",
      "name": "python",
      "nbconvert_exporter": "python",
      "pygments_lexer": "ipython2",
      "version": "2.7.6"
    },
    "widgets": {
      "application/vnd.jupyter.widget-state+json": {
        "86ef4c801c584606a7780c2d299d04d2": {
          "model_module": "@jupyter-widgets/controls",
          "model_name": "HBoxModel",
          "model_module_version": "1.5.0",
          "state": {
            "_dom_classes": [],
            "_model_module": "@jupyter-widgets/controls",
            "_model_module_version": "1.5.0",
            "_model_name": "HBoxModel",
            "_view_count": null,
            "_view_module": "@jupyter-widgets/controls",
            "_view_module_version": "1.5.0",
            "_view_name": "HBoxView",
            "box_style": "",
            "children": [
              "IPY_MODEL_a1a6a30a742d451690496a96533f4ba2",
              "IPY_MODEL_5aabb49f909046bbadd268ac30def301",
              "IPY_MODEL_6113f8dfc228432b891bf44519ea6a2f"
            ],
            "layout": "IPY_MODEL_36b96af335d84b58a1a1da728a0e5e7a"
          }
        },
        "a1a6a30a742d451690496a96533f4ba2": {
          "model_module": "@jupyter-widgets/controls",
          "model_name": "HTMLModel",
          "model_module_version": "1.5.0",
          "state": {
            "_dom_classes": [],
            "_model_module": "@jupyter-widgets/controls",
            "_model_module_version": "1.5.0",
            "_model_name": "HTMLModel",
            "_view_count": null,
            "_view_module": "@jupyter-widgets/controls",
            "_view_module_version": "1.5.0",
            "_view_name": "HTMLView",
            "description": "",
            "description_tooltip": null,
            "layout": "IPY_MODEL_a1f0bdd17b834c7fb6e741372da4a0fc",
            "placeholder": "​",
            "style": "IPY_MODEL_01982353c33f4598968febb8e8c18557",
            "value": "100%"
          }
        },
        "5aabb49f909046bbadd268ac30def301": {
          "model_module": "@jupyter-widgets/controls",
          "model_name": "FloatProgressModel",
          "model_module_version": "1.5.0",
          "state": {
            "_dom_classes": [],
            "_model_module": "@jupyter-widgets/controls",
            "_model_module_version": "1.5.0",
            "_model_name": "FloatProgressModel",
            "_view_count": null,
            "_view_module": "@jupyter-widgets/controls",
            "_view_module_version": "1.5.0",
            "_view_name": "ProgressView",
            "bar_style": "success",
            "description": "",
            "description_tooltip": null,
            "layout": "IPY_MODEL_125bb6e8d738413ca1946fb0d5333763",
            "max": 5000,
            "min": 0,
            "orientation": "horizontal",
            "style": "IPY_MODEL_da25ee7d190f46ec9c1b8ef41195afa0",
            "value": 5000
          }
        },
        "6113f8dfc228432b891bf44519ea6a2f": {
          "model_module": "@jupyter-widgets/controls",
          "model_name": "HTMLModel",
          "model_module_version": "1.5.0",
          "state": {
            "_dom_classes": [],
            "_model_module": "@jupyter-widgets/controls",
            "_model_module_version": "1.5.0",
            "_model_name": "HTMLModel",
            "_view_count": null,
            "_view_module": "@jupyter-widgets/controls",
            "_view_module_version": "1.5.0",
            "_view_name": "HTMLView",
            "description": "",
            "description_tooltip": null,
            "layout": "IPY_MODEL_cf8a195d8f6645459170a7fc94faeddd",
            "placeholder": "​",
            "style": "IPY_MODEL_31fcdf99ae1a4eb7b7fa291ed48f296f",
            "value": " 5000/5000 [00:30&lt;00:00, 168.69it/s]"
          }
        },
        "36b96af335d84b58a1a1da728a0e5e7a": {
          "model_module": "@jupyter-widgets/base",
          "model_name": "LayoutModel",
          "model_module_version": "1.2.0",
          "state": {
            "_model_module": "@jupyter-widgets/base",
            "_model_module_version": "1.2.0",
            "_model_name": "LayoutModel",
            "_view_count": null,
            "_view_module": "@jupyter-widgets/base",
            "_view_module_version": "1.2.0",
            "_view_name": "LayoutView",
            "align_content": null,
            "align_items": null,
            "align_self": null,
            "border": null,
            "bottom": null,
            "display": null,
            "flex": null,
            "flex_flow": null,
            "grid_area": null,
            "grid_auto_columns": null,
            "grid_auto_flow": null,
            "grid_auto_rows": null,
            "grid_column": null,
            "grid_gap": null,
            "grid_row": null,
            "grid_template_areas": null,
            "grid_template_columns": null,
            "grid_template_rows": null,
            "height": null,
            "justify_content": null,
            "justify_items": null,
            "left": null,
            "margin": null,
            "max_height": null,
            "max_width": null,
            "min_height": null,
            "min_width": null,
            "object_fit": null,
            "object_position": null,
            "order": null,
            "overflow": null,
            "overflow_x": null,
            "overflow_y": null,
            "padding": null,
            "right": null,
            "top": null,
            "visibility": null,
            "width": null
          }
        },
        "a1f0bdd17b834c7fb6e741372da4a0fc": {
          "model_module": "@jupyter-widgets/base",
          "model_name": "LayoutModel",
          "model_module_version": "1.2.0",
          "state": {
            "_model_module": "@jupyter-widgets/base",
            "_model_module_version": "1.2.0",
            "_model_name": "LayoutModel",
            "_view_count": null,
            "_view_module": "@jupyter-widgets/base",
            "_view_module_version": "1.2.0",
            "_view_name": "LayoutView",
            "align_content": null,
            "align_items": null,
            "align_self": null,
            "border": null,
            "bottom": null,
            "display": null,
            "flex": null,
            "flex_flow": null,
            "grid_area": null,
            "grid_auto_columns": null,
            "grid_auto_flow": null,
            "grid_auto_rows": null,
            "grid_column": null,
            "grid_gap": null,
            "grid_row": null,
            "grid_template_areas": null,
            "grid_template_columns": null,
            "grid_template_rows": null,
            "height": null,
            "justify_content": null,
            "justify_items": null,
            "left": null,
            "margin": null,
            "max_height": null,
            "max_width": null,
            "min_height": null,
            "min_width": null,
            "object_fit": null,
            "object_position": null,
            "order": null,
            "overflow": null,
            "overflow_x": null,
            "overflow_y": null,
            "padding": null,
            "right": null,
            "top": null,
            "visibility": null,
            "width": null
          }
        },
        "01982353c33f4598968febb8e8c18557": {
          "model_module": "@jupyter-widgets/controls",
          "model_name": "DescriptionStyleModel",
          "model_module_version": "1.5.0",
          "state": {
            "_model_module": "@jupyter-widgets/controls",
            "_model_module_version": "1.5.0",
            "_model_name": "DescriptionStyleModel",
            "_view_count": null,
            "_view_module": "@jupyter-widgets/base",
            "_view_module_version": "1.2.0",
            "_view_name": "StyleView",
            "description_width": ""
          }
        },
        "125bb6e8d738413ca1946fb0d5333763": {
          "model_module": "@jupyter-widgets/base",
          "model_name": "LayoutModel",
          "model_module_version": "1.2.0",
          "state": {
            "_model_module": "@jupyter-widgets/base",
            "_model_module_version": "1.2.0",
            "_model_name": "LayoutModel",
            "_view_count": null,
            "_view_module": "@jupyter-widgets/base",
            "_view_module_version": "1.2.0",
            "_view_name": "LayoutView",
            "align_content": null,
            "align_items": null,
            "align_self": null,
            "border": null,
            "bottom": null,
            "display": null,
            "flex": null,
            "flex_flow": null,
            "grid_area": null,
            "grid_auto_columns": null,
            "grid_auto_flow": null,
            "grid_auto_rows": null,
            "grid_column": null,
            "grid_gap": null,
            "grid_row": null,
            "grid_template_areas": null,
            "grid_template_columns": null,
            "grid_template_rows": null,
            "height": null,
            "justify_content": null,
            "justify_items": null,
            "left": null,
            "margin": null,
            "max_height": null,
            "max_width": null,
            "min_height": null,
            "min_width": null,
            "object_fit": null,
            "object_position": null,
            "order": null,
            "overflow": null,
            "overflow_x": null,
            "overflow_y": null,
            "padding": null,
            "right": null,
            "top": null,
            "visibility": null,
            "width": null
          }
        },
        "da25ee7d190f46ec9c1b8ef41195afa0": {
          "model_module": "@jupyter-widgets/controls",
          "model_name": "ProgressStyleModel",
          "model_module_version": "1.5.0",
          "state": {
            "_model_module": "@jupyter-widgets/controls",
            "_model_module_version": "1.5.0",
            "_model_name": "ProgressStyleModel",
            "_view_count": null,
            "_view_module": "@jupyter-widgets/base",
            "_view_module_version": "1.2.0",
            "_view_name": "StyleView",
            "bar_color": null,
            "description_width": ""
          }
        },
        "cf8a195d8f6645459170a7fc94faeddd": {
          "model_module": "@jupyter-widgets/base",
          "model_name": "LayoutModel",
          "model_module_version": "1.2.0",
          "state": {
            "_model_module": "@jupyter-widgets/base",
            "_model_module_version": "1.2.0",
            "_model_name": "LayoutModel",
            "_view_count": null,
            "_view_module": "@jupyter-widgets/base",
            "_view_module_version": "1.2.0",
            "_view_name": "LayoutView",
            "align_content": null,
            "align_items": null,
            "align_self": null,
            "border": null,
            "bottom": null,
            "display": null,
            "flex": null,
            "flex_flow": null,
            "grid_area": null,
            "grid_auto_columns": null,
            "grid_auto_flow": null,
            "grid_auto_rows": null,
            "grid_column": null,
            "grid_gap": null,
            "grid_row": null,
            "grid_template_areas": null,
            "grid_template_columns": null,
            "grid_template_rows": null,
            "height": null,
            "justify_content": null,
            "justify_items": null,
            "left": null,
            "margin": null,
            "max_height": null,
            "max_width": null,
            "min_height": null,
            "min_width": null,
            "object_fit": null,
            "object_position": null,
            "order": null,
            "overflow": null,
            "overflow_x": null,
            "overflow_y": null,
            "padding": null,
            "right": null,
            "top": null,
            "visibility": null,
            "width": null
          }
        },
        "31fcdf99ae1a4eb7b7fa291ed48f296f": {
          "model_module": "@jupyter-widgets/controls",
          "model_name": "DescriptionStyleModel",
          "model_module_version": "1.5.0",
          "state": {
            "_model_module": "@jupyter-widgets/controls",
            "_model_module_version": "1.5.0",
            "_model_name": "DescriptionStyleModel",
            "_view_count": null,
            "_view_module": "@jupyter-widgets/base",
            "_view_module_version": "1.2.0",
            "_view_name": "StyleView",
            "description_width": ""
          }
        },
        "8b3883ba1e0e40c3b5aa7b64ec7a7bd5": {
          "model_module": "@jupyter-widgets/controls",
          "model_name": "HBoxModel",
          "model_module_version": "1.5.0",
          "state": {
            "_dom_classes": [],
            "_model_module": "@jupyter-widgets/controls",
            "_model_module_version": "1.5.0",
            "_model_name": "HBoxModel",
            "_view_count": null,
            "_view_module": "@jupyter-widgets/controls",
            "_view_module_version": "1.5.0",
            "_view_name": "HBoxView",
            "box_style": "",
            "children": [
              "IPY_MODEL_ab80a94028de4428a67d41adb4537f65",
              "IPY_MODEL_0b8fa88ebc0f48f7a116e6eeacf3a6c6",
              "IPY_MODEL_334de81898424a8e9e96af51d97fba38"
            ],
            "layout": "IPY_MODEL_ab4c18b5ad9446088d9174349b8b8511"
          }
        },
        "ab80a94028de4428a67d41adb4537f65": {
          "model_module": "@jupyter-widgets/controls",
          "model_name": "HTMLModel",
          "model_module_version": "1.5.0",
          "state": {
            "_dom_classes": [],
            "_model_module": "@jupyter-widgets/controls",
            "_model_module_version": "1.5.0",
            "_model_name": "HTMLModel",
            "_view_count": null,
            "_view_module": "@jupyter-widgets/controls",
            "_view_module_version": "1.5.0",
            "_view_name": "HTMLView",
            "description": "",
            "description_tooltip": null,
            "layout": "IPY_MODEL_0de9f918306347a28112fa8f1b20461f",
            "placeholder": "​",
            "style": "IPY_MODEL_ebcd2a7d44014ed5be5ba29f3669ad14",
            "value": "100%"
          }
        },
        "0b8fa88ebc0f48f7a116e6eeacf3a6c6": {
          "model_module": "@jupyter-widgets/controls",
          "model_name": "FloatProgressModel",
          "model_module_version": "1.5.0",
          "state": {
            "_dom_classes": [],
            "_model_module": "@jupyter-widgets/controls",
            "_model_module_version": "1.5.0",
            "_model_name": "FloatProgressModel",
            "_view_count": null,
            "_view_module": "@jupyter-widgets/controls",
            "_view_module_version": "1.5.0",
            "_view_name": "ProgressView",
            "bar_style": "success",
            "description": "",
            "description_tooltip": null,
            "layout": "IPY_MODEL_7127d429c7a4445ca282d3b427412619",
            "max": 5000,
            "min": 0,
            "orientation": "horizontal",
            "style": "IPY_MODEL_9450b1b4cbb8421bb4fbc003e9a8ccde",
            "value": 5000
          }
        },
        "334de81898424a8e9e96af51d97fba38": {
          "model_module": "@jupyter-widgets/controls",
          "model_name": "HTMLModel",
          "model_module_version": "1.5.0",
          "state": {
            "_dom_classes": [],
            "_model_module": "@jupyter-widgets/controls",
            "_model_module_version": "1.5.0",
            "_model_name": "HTMLModel",
            "_view_count": null,
            "_view_module": "@jupyter-widgets/controls",
            "_view_module_version": "1.5.0",
            "_view_name": "HTMLView",
            "description": "",
            "description_tooltip": null,
            "layout": "IPY_MODEL_2c3dbfe7d13d40b59dda33c2c03532e3",
            "placeholder": "​",
            "style": "IPY_MODEL_1525d7164f95431abfbb5469a265989f",
            "value": " 5000/5000 [00:29&lt;00:00, 182.06it/s]"
          }
        },
        "ab4c18b5ad9446088d9174349b8b8511": {
          "model_module": "@jupyter-widgets/base",
          "model_name": "LayoutModel",
          "model_module_version": "1.2.0",
          "state": {
            "_model_module": "@jupyter-widgets/base",
            "_model_module_version": "1.2.0",
            "_model_name": "LayoutModel",
            "_view_count": null,
            "_view_module": "@jupyter-widgets/base",
            "_view_module_version": "1.2.0",
            "_view_name": "LayoutView",
            "align_content": null,
            "align_items": null,
            "align_self": null,
            "border": null,
            "bottom": null,
            "display": null,
            "flex": null,
            "flex_flow": null,
            "grid_area": null,
            "grid_auto_columns": null,
            "grid_auto_flow": null,
            "grid_auto_rows": null,
            "grid_column": null,
            "grid_gap": null,
            "grid_row": null,
            "grid_template_areas": null,
            "grid_template_columns": null,
            "grid_template_rows": null,
            "height": null,
            "justify_content": null,
            "justify_items": null,
            "left": null,
            "margin": null,
            "max_height": null,
            "max_width": null,
            "min_height": null,
            "min_width": null,
            "object_fit": null,
            "object_position": null,
            "order": null,
            "overflow": null,
            "overflow_x": null,
            "overflow_y": null,
            "padding": null,
            "right": null,
            "top": null,
            "visibility": null,
            "width": null
          }
        },
        "0de9f918306347a28112fa8f1b20461f": {
          "model_module": "@jupyter-widgets/base",
          "model_name": "LayoutModel",
          "model_module_version": "1.2.0",
          "state": {
            "_model_module": "@jupyter-widgets/base",
            "_model_module_version": "1.2.0",
            "_model_name": "LayoutModel",
            "_view_count": null,
            "_view_module": "@jupyter-widgets/base",
            "_view_module_version": "1.2.0",
            "_view_name": "LayoutView",
            "align_content": null,
            "align_items": null,
            "align_self": null,
            "border": null,
            "bottom": null,
            "display": null,
            "flex": null,
            "flex_flow": null,
            "grid_area": null,
            "grid_auto_columns": null,
            "grid_auto_flow": null,
            "grid_auto_rows": null,
            "grid_column": null,
            "grid_gap": null,
            "grid_row": null,
            "grid_template_areas": null,
            "grid_template_columns": null,
            "grid_template_rows": null,
            "height": null,
            "justify_content": null,
            "justify_items": null,
            "left": null,
            "margin": null,
            "max_height": null,
            "max_width": null,
            "min_height": null,
            "min_width": null,
            "object_fit": null,
            "object_position": null,
            "order": null,
            "overflow": null,
            "overflow_x": null,
            "overflow_y": null,
            "padding": null,
            "right": null,
            "top": null,
            "visibility": null,
            "width": null
          }
        },
        "ebcd2a7d44014ed5be5ba29f3669ad14": {
          "model_module": "@jupyter-widgets/controls",
          "model_name": "DescriptionStyleModel",
          "model_module_version": "1.5.0",
          "state": {
            "_model_module": "@jupyter-widgets/controls",
            "_model_module_version": "1.5.0",
            "_model_name": "DescriptionStyleModel",
            "_view_count": null,
            "_view_module": "@jupyter-widgets/base",
            "_view_module_version": "1.2.0",
            "_view_name": "StyleView",
            "description_width": ""
          }
        },
        "7127d429c7a4445ca282d3b427412619": {
          "model_module": "@jupyter-widgets/base",
          "model_name": "LayoutModel",
          "model_module_version": "1.2.0",
          "state": {
            "_model_module": "@jupyter-widgets/base",
            "_model_module_version": "1.2.0",
            "_model_name": "LayoutModel",
            "_view_count": null,
            "_view_module": "@jupyter-widgets/base",
            "_view_module_version": "1.2.0",
            "_view_name": "LayoutView",
            "align_content": null,
            "align_items": null,
            "align_self": null,
            "border": null,
            "bottom": null,
            "display": null,
            "flex": null,
            "flex_flow": null,
            "grid_area": null,
            "grid_auto_columns": null,
            "grid_auto_flow": null,
            "grid_auto_rows": null,
            "grid_column": null,
            "grid_gap": null,
            "grid_row": null,
            "grid_template_areas": null,
            "grid_template_columns": null,
            "grid_template_rows": null,
            "height": null,
            "justify_content": null,
            "justify_items": null,
            "left": null,
            "margin": null,
            "max_height": null,
            "max_width": null,
            "min_height": null,
            "min_width": null,
            "object_fit": null,
            "object_position": null,
            "order": null,
            "overflow": null,
            "overflow_x": null,
            "overflow_y": null,
            "padding": null,
            "right": null,
            "top": null,
            "visibility": null,
            "width": null
          }
        },
        "9450b1b4cbb8421bb4fbc003e9a8ccde": {
          "model_module": "@jupyter-widgets/controls",
          "model_name": "ProgressStyleModel",
          "model_module_version": "1.5.0",
          "state": {
            "_model_module": "@jupyter-widgets/controls",
            "_model_module_version": "1.5.0",
            "_model_name": "ProgressStyleModel",
            "_view_count": null,
            "_view_module": "@jupyter-widgets/base",
            "_view_module_version": "1.2.0",
            "_view_name": "StyleView",
            "bar_color": null,
            "description_width": ""
          }
        },
        "2c3dbfe7d13d40b59dda33c2c03532e3": {
          "model_module": "@jupyter-widgets/base",
          "model_name": "LayoutModel",
          "model_module_version": "1.2.0",
          "state": {
            "_model_module": "@jupyter-widgets/base",
            "_model_module_version": "1.2.0",
            "_model_name": "LayoutModel",
            "_view_count": null,
            "_view_module": "@jupyter-widgets/base",
            "_view_module_version": "1.2.0",
            "_view_name": "LayoutView",
            "align_content": null,
            "align_items": null,
            "align_self": null,
            "border": null,
            "bottom": null,
            "display": null,
            "flex": null,
            "flex_flow": null,
            "grid_area": null,
            "grid_auto_columns": null,
            "grid_auto_flow": null,
            "grid_auto_rows": null,
            "grid_column": null,
            "grid_gap": null,
            "grid_row": null,
            "grid_template_areas": null,
            "grid_template_columns": null,
            "grid_template_rows": null,
            "height": null,
            "justify_content": null,
            "justify_items": null,
            "left": null,
            "margin": null,
            "max_height": null,
            "max_width": null,
            "min_height": null,
            "min_width": null,
            "object_fit": null,
            "object_position": null,
            "order": null,
            "overflow": null,
            "overflow_x": null,
            "overflow_y": null,
            "padding": null,
            "right": null,
            "top": null,
            "visibility": null,
            "width": null
          }
        },
        "1525d7164f95431abfbb5469a265989f": {
          "model_module": "@jupyter-widgets/controls",
          "model_name": "DescriptionStyleModel",
          "model_module_version": "1.5.0",
          "state": {
            "_model_module": "@jupyter-widgets/controls",
            "_model_module_version": "1.5.0",
            "_model_name": "DescriptionStyleModel",
            "_view_count": null,
            "_view_module": "@jupyter-widgets/base",
            "_view_module_version": "1.2.0",
            "_view_name": "StyleView",
            "description_width": ""
          }
        },
        "84025797b8fe4d90ab38f6fed4d010b0": {
          "model_module": "@jupyter-widgets/controls",
          "model_name": "HBoxModel",
          "model_module_version": "1.5.0",
          "state": {
            "_dom_classes": [],
            "_model_module": "@jupyter-widgets/controls",
            "_model_module_version": "1.5.0",
            "_model_name": "HBoxModel",
            "_view_count": null,
            "_view_module": "@jupyter-widgets/controls",
            "_view_module_version": "1.5.0",
            "_view_name": "HBoxView",
            "box_style": "",
            "children": [
              "IPY_MODEL_0744ac1f8cdb41fe940de00e40f233f4",
              "IPY_MODEL_e7cd4238f1df4d4e87dc72c2a505ad9e",
              "IPY_MODEL_2cd5b321e04a48278f288043cfed6d73"
            ],
            "layout": "IPY_MODEL_8e6aa6aeb04842febce4125ea2a7aaab"
          }
        },
        "0744ac1f8cdb41fe940de00e40f233f4": {
          "model_module": "@jupyter-widgets/controls",
          "model_name": "HTMLModel",
          "model_module_version": "1.5.0",
          "state": {
            "_dom_classes": [],
            "_model_module": "@jupyter-widgets/controls",
            "_model_module_version": "1.5.0",
            "_model_name": "HTMLModel",
            "_view_count": null,
            "_view_module": "@jupyter-widgets/controls",
            "_view_module_version": "1.5.0",
            "_view_name": "HTMLView",
            "description": "",
            "description_tooltip": null,
            "layout": "IPY_MODEL_3c4b1676e5574903aaefefed21eea8d7",
            "placeholder": "​",
            "style": "IPY_MODEL_2df583fa16704470984fc2cc016d2221",
            "value": "100%"
          }
        },
        "e7cd4238f1df4d4e87dc72c2a505ad9e": {
          "model_module": "@jupyter-widgets/controls",
          "model_name": "FloatProgressModel",
          "model_module_version": "1.5.0",
          "state": {
            "_dom_classes": [],
            "_model_module": "@jupyter-widgets/controls",
            "_model_module_version": "1.5.0",
            "_model_name": "FloatProgressModel",
            "_view_count": null,
            "_view_module": "@jupyter-widgets/controls",
            "_view_module_version": "1.5.0",
            "_view_name": "ProgressView",
            "bar_style": "success",
            "description": "",
            "description_tooltip": null,
            "layout": "IPY_MODEL_f3d73017bb0445269787a984f974af77",
            "max": 5000,
            "min": 0,
            "orientation": "horizontal",
            "style": "IPY_MODEL_4aba2d8a640a42fd89cb960a9e087750",
            "value": 5000
          }
        },
        "2cd5b321e04a48278f288043cfed6d73": {
          "model_module": "@jupyter-widgets/controls",
          "model_name": "HTMLModel",
          "model_module_version": "1.5.0",
          "state": {
            "_dom_classes": [],
            "_model_module": "@jupyter-widgets/controls",
            "_model_module_version": "1.5.0",
            "_model_name": "HTMLModel",
            "_view_count": null,
            "_view_module": "@jupyter-widgets/controls",
            "_view_module_version": "1.5.0",
            "_view_name": "HTMLView",
            "description": "",
            "description_tooltip": null,
            "layout": "IPY_MODEL_58b93e8082a2456b82df5cb1d40dd3c7",
            "placeholder": "​",
            "style": "IPY_MODEL_8353a65f34df4086bcf4861520ba7f3d",
            "value": " 5000/5000 [00:30&lt;00:00, 185.21it/s]"
          }
        },
        "8e6aa6aeb04842febce4125ea2a7aaab": {
          "model_module": "@jupyter-widgets/base",
          "model_name": "LayoutModel",
          "model_module_version": "1.2.0",
          "state": {
            "_model_module": "@jupyter-widgets/base",
            "_model_module_version": "1.2.0",
            "_model_name": "LayoutModel",
            "_view_count": null,
            "_view_module": "@jupyter-widgets/base",
            "_view_module_version": "1.2.0",
            "_view_name": "LayoutView",
            "align_content": null,
            "align_items": null,
            "align_self": null,
            "border": null,
            "bottom": null,
            "display": null,
            "flex": null,
            "flex_flow": null,
            "grid_area": null,
            "grid_auto_columns": null,
            "grid_auto_flow": null,
            "grid_auto_rows": null,
            "grid_column": null,
            "grid_gap": null,
            "grid_row": null,
            "grid_template_areas": null,
            "grid_template_columns": null,
            "grid_template_rows": null,
            "height": null,
            "justify_content": null,
            "justify_items": null,
            "left": null,
            "margin": null,
            "max_height": null,
            "max_width": null,
            "min_height": null,
            "min_width": null,
            "object_fit": null,
            "object_position": null,
            "order": null,
            "overflow": null,
            "overflow_x": null,
            "overflow_y": null,
            "padding": null,
            "right": null,
            "top": null,
            "visibility": null,
            "width": null
          }
        },
        "3c4b1676e5574903aaefefed21eea8d7": {
          "model_module": "@jupyter-widgets/base",
          "model_name": "LayoutModel",
          "model_module_version": "1.2.0",
          "state": {
            "_model_module": "@jupyter-widgets/base",
            "_model_module_version": "1.2.0",
            "_model_name": "LayoutModel",
            "_view_count": null,
            "_view_module": "@jupyter-widgets/base",
            "_view_module_version": "1.2.0",
            "_view_name": "LayoutView",
            "align_content": null,
            "align_items": null,
            "align_self": null,
            "border": null,
            "bottom": null,
            "display": null,
            "flex": null,
            "flex_flow": null,
            "grid_area": null,
            "grid_auto_columns": null,
            "grid_auto_flow": null,
            "grid_auto_rows": null,
            "grid_column": null,
            "grid_gap": null,
            "grid_row": null,
            "grid_template_areas": null,
            "grid_template_columns": null,
            "grid_template_rows": null,
            "height": null,
            "justify_content": null,
            "justify_items": null,
            "left": null,
            "margin": null,
            "max_height": null,
            "max_width": null,
            "min_height": null,
            "min_width": null,
            "object_fit": null,
            "object_position": null,
            "order": null,
            "overflow": null,
            "overflow_x": null,
            "overflow_y": null,
            "padding": null,
            "right": null,
            "top": null,
            "visibility": null,
            "width": null
          }
        },
        "2df583fa16704470984fc2cc016d2221": {
          "model_module": "@jupyter-widgets/controls",
          "model_name": "DescriptionStyleModel",
          "model_module_version": "1.5.0",
          "state": {
            "_model_module": "@jupyter-widgets/controls",
            "_model_module_version": "1.5.0",
            "_model_name": "DescriptionStyleModel",
            "_view_count": null,
            "_view_module": "@jupyter-widgets/base",
            "_view_module_version": "1.2.0",
            "_view_name": "StyleView",
            "description_width": ""
          }
        },
        "f3d73017bb0445269787a984f974af77": {
          "model_module": "@jupyter-widgets/base",
          "model_name": "LayoutModel",
          "model_module_version": "1.2.0",
          "state": {
            "_model_module": "@jupyter-widgets/base",
            "_model_module_version": "1.2.0",
            "_model_name": "LayoutModel",
            "_view_count": null,
            "_view_module": "@jupyter-widgets/base",
            "_view_module_version": "1.2.0",
            "_view_name": "LayoutView",
            "align_content": null,
            "align_items": null,
            "align_self": null,
            "border": null,
            "bottom": null,
            "display": null,
            "flex": null,
            "flex_flow": null,
            "grid_area": null,
            "grid_auto_columns": null,
            "grid_auto_flow": null,
            "grid_auto_rows": null,
            "grid_column": null,
            "grid_gap": null,
            "grid_row": null,
            "grid_template_areas": null,
            "grid_template_columns": null,
            "grid_template_rows": null,
            "height": null,
            "justify_content": null,
            "justify_items": null,
            "left": null,
            "margin": null,
            "max_height": null,
            "max_width": null,
            "min_height": null,
            "min_width": null,
            "object_fit": null,
            "object_position": null,
            "order": null,
            "overflow": null,
            "overflow_x": null,
            "overflow_y": null,
            "padding": null,
            "right": null,
            "top": null,
            "visibility": null,
            "width": null
          }
        },
        "4aba2d8a640a42fd89cb960a9e087750": {
          "model_module": "@jupyter-widgets/controls",
          "model_name": "ProgressStyleModel",
          "model_module_version": "1.5.0",
          "state": {
            "_model_module": "@jupyter-widgets/controls",
            "_model_module_version": "1.5.0",
            "_model_name": "ProgressStyleModel",
            "_view_count": null,
            "_view_module": "@jupyter-widgets/base",
            "_view_module_version": "1.2.0",
            "_view_name": "StyleView",
            "bar_color": null,
            "description_width": ""
          }
        },
        "58b93e8082a2456b82df5cb1d40dd3c7": {
          "model_module": "@jupyter-widgets/base",
          "model_name": "LayoutModel",
          "model_module_version": "1.2.0",
          "state": {
            "_model_module": "@jupyter-widgets/base",
            "_model_module_version": "1.2.0",
            "_model_name": "LayoutModel",
            "_view_count": null,
            "_view_module": "@jupyter-widgets/base",
            "_view_module_version": "1.2.0",
            "_view_name": "LayoutView",
            "align_content": null,
            "align_items": null,
            "align_self": null,
            "border": null,
            "bottom": null,
            "display": null,
            "flex": null,
            "flex_flow": null,
            "grid_area": null,
            "grid_auto_columns": null,
            "grid_auto_flow": null,
            "grid_auto_rows": null,
            "grid_column": null,
            "grid_gap": null,
            "grid_row": null,
            "grid_template_areas": null,
            "grid_template_columns": null,
            "grid_template_rows": null,
            "height": null,
            "justify_content": null,
            "justify_items": null,
            "left": null,
            "margin": null,
            "max_height": null,
            "max_width": null,
            "min_height": null,
            "min_width": null,
            "object_fit": null,
            "object_position": null,
            "order": null,
            "overflow": null,
            "overflow_x": null,
            "overflow_y": null,
            "padding": null,
            "right": null,
            "top": null,
            "visibility": null,
            "width": null
          }
        },
        "8353a65f34df4086bcf4861520ba7f3d": {
          "model_module": "@jupyter-widgets/controls",
          "model_name": "DescriptionStyleModel",
          "model_module_version": "1.5.0",
          "state": {
            "_model_module": "@jupyter-widgets/controls",
            "_model_module_version": "1.5.0",
            "_model_name": "DescriptionStyleModel",
            "_view_count": null,
            "_view_module": "@jupyter-widgets/base",
            "_view_module_version": "1.2.0",
            "_view_name": "StyleView",
            "description_width": ""
          }
        },
        "ece578f85297450d98efd3a5741a8a91": {
          "model_module": "@jupyter-widgets/controls",
          "model_name": "HBoxModel",
          "model_module_version": "1.5.0",
          "state": {
            "_dom_classes": [],
            "_model_module": "@jupyter-widgets/controls",
            "_model_module_version": "1.5.0",
            "_model_name": "HBoxModel",
            "_view_count": null,
            "_view_module": "@jupyter-widgets/controls",
            "_view_module_version": "1.5.0",
            "_view_name": "HBoxView",
            "box_style": "",
            "children": [
              "IPY_MODEL_7243d6435b254986b71f3638ddc59123",
              "IPY_MODEL_acb3a2d872e748ad98a714ae62ff5f84",
              "IPY_MODEL_72ece6968639402dae70e9a6f0a53864"
            ],
            "layout": "IPY_MODEL_c34fc5dfaea94507a9d7e54ffda0ecd7"
          }
        },
        "7243d6435b254986b71f3638ddc59123": {
          "model_module": "@jupyter-widgets/controls",
          "model_name": "HTMLModel",
          "model_module_version": "1.5.0",
          "state": {
            "_dom_classes": [],
            "_model_module": "@jupyter-widgets/controls",
            "_model_module_version": "1.5.0",
            "_model_name": "HTMLModel",
            "_view_count": null,
            "_view_module": "@jupyter-widgets/controls",
            "_view_module_version": "1.5.0",
            "_view_name": "HTMLView",
            "description": "",
            "description_tooltip": null,
            "layout": "IPY_MODEL_7e3b8aca19f7422080a1ca51d6d139dd",
            "placeholder": "​",
            "style": "IPY_MODEL_6e5e1e03c7a547e299979b86d6f5939d",
            "value": "100%"
          }
        },
        "acb3a2d872e748ad98a714ae62ff5f84": {
          "model_module": "@jupyter-widgets/controls",
          "model_name": "FloatProgressModel",
          "model_module_version": "1.5.0",
          "state": {
            "_dom_classes": [],
            "_model_module": "@jupyter-widgets/controls",
            "_model_module_version": "1.5.0",
            "_model_name": "FloatProgressModel",
            "_view_count": null,
            "_view_module": "@jupyter-widgets/controls",
            "_view_module_version": "1.5.0",
            "_view_name": "ProgressView",
            "bar_style": "success",
            "description": "",
            "description_tooltip": null,
            "layout": "IPY_MODEL_a934b0a645984027bd753d09eecac11a",
            "max": 5000,
            "min": 0,
            "orientation": "horizontal",
            "style": "IPY_MODEL_29c7cff17e034d45a210441e1006c857",
            "value": 5000
          }
        },
        "72ece6968639402dae70e9a6f0a53864": {
          "model_module": "@jupyter-widgets/controls",
          "model_name": "HTMLModel",
          "model_module_version": "1.5.0",
          "state": {
            "_dom_classes": [],
            "_model_module": "@jupyter-widgets/controls",
            "_model_module_version": "1.5.0",
            "_model_name": "HTMLModel",
            "_view_count": null,
            "_view_module": "@jupyter-widgets/controls",
            "_view_module_version": "1.5.0",
            "_view_name": "HTMLView",
            "description": "",
            "description_tooltip": null,
            "layout": "IPY_MODEL_03891e89d5b345c8b2d2007de2b34007",
            "placeholder": "​",
            "style": "IPY_MODEL_c5fbbe600abe4b4f975c2526d828114b",
            "value": " 5000/5000 [00:29&lt;00:00, 183.20it/s]"
          }
        },
        "c34fc5dfaea94507a9d7e54ffda0ecd7": {
          "model_module": "@jupyter-widgets/base",
          "model_name": "LayoutModel",
          "model_module_version": "1.2.0",
          "state": {
            "_model_module": "@jupyter-widgets/base",
            "_model_module_version": "1.2.0",
            "_model_name": "LayoutModel",
            "_view_count": null,
            "_view_module": "@jupyter-widgets/base",
            "_view_module_version": "1.2.0",
            "_view_name": "LayoutView",
            "align_content": null,
            "align_items": null,
            "align_self": null,
            "border": null,
            "bottom": null,
            "display": null,
            "flex": null,
            "flex_flow": null,
            "grid_area": null,
            "grid_auto_columns": null,
            "grid_auto_flow": null,
            "grid_auto_rows": null,
            "grid_column": null,
            "grid_gap": null,
            "grid_row": null,
            "grid_template_areas": null,
            "grid_template_columns": null,
            "grid_template_rows": null,
            "height": null,
            "justify_content": null,
            "justify_items": null,
            "left": null,
            "margin": null,
            "max_height": null,
            "max_width": null,
            "min_height": null,
            "min_width": null,
            "object_fit": null,
            "object_position": null,
            "order": null,
            "overflow": null,
            "overflow_x": null,
            "overflow_y": null,
            "padding": null,
            "right": null,
            "top": null,
            "visibility": null,
            "width": null
          }
        },
        "7e3b8aca19f7422080a1ca51d6d139dd": {
          "model_module": "@jupyter-widgets/base",
          "model_name": "LayoutModel",
          "model_module_version": "1.2.0",
          "state": {
            "_model_module": "@jupyter-widgets/base",
            "_model_module_version": "1.2.0",
            "_model_name": "LayoutModel",
            "_view_count": null,
            "_view_module": "@jupyter-widgets/base",
            "_view_module_version": "1.2.0",
            "_view_name": "LayoutView",
            "align_content": null,
            "align_items": null,
            "align_self": null,
            "border": null,
            "bottom": null,
            "display": null,
            "flex": null,
            "flex_flow": null,
            "grid_area": null,
            "grid_auto_columns": null,
            "grid_auto_flow": null,
            "grid_auto_rows": null,
            "grid_column": null,
            "grid_gap": null,
            "grid_row": null,
            "grid_template_areas": null,
            "grid_template_columns": null,
            "grid_template_rows": null,
            "height": null,
            "justify_content": null,
            "justify_items": null,
            "left": null,
            "margin": null,
            "max_height": null,
            "max_width": null,
            "min_height": null,
            "min_width": null,
            "object_fit": null,
            "object_position": null,
            "order": null,
            "overflow": null,
            "overflow_x": null,
            "overflow_y": null,
            "padding": null,
            "right": null,
            "top": null,
            "visibility": null,
            "width": null
          }
        },
        "6e5e1e03c7a547e299979b86d6f5939d": {
          "model_module": "@jupyter-widgets/controls",
          "model_name": "DescriptionStyleModel",
          "model_module_version": "1.5.0",
          "state": {
            "_model_module": "@jupyter-widgets/controls",
            "_model_module_version": "1.5.0",
            "_model_name": "DescriptionStyleModel",
            "_view_count": null,
            "_view_module": "@jupyter-widgets/base",
            "_view_module_version": "1.2.0",
            "_view_name": "StyleView",
            "description_width": ""
          }
        },
        "a934b0a645984027bd753d09eecac11a": {
          "model_module": "@jupyter-widgets/base",
          "model_name": "LayoutModel",
          "model_module_version": "1.2.0",
          "state": {
            "_model_module": "@jupyter-widgets/base",
            "_model_module_version": "1.2.0",
            "_model_name": "LayoutModel",
            "_view_count": null,
            "_view_module": "@jupyter-widgets/base",
            "_view_module_version": "1.2.0",
            "_view_name": "LayoutView",
            "align_content": null,
            "align_items": null,
            "align_self": null,
            "border": null,
            "bottom": null,
            "display": null,
            "flex": null,
            "flex_flow": null,
            "grid_area": null,
            "grid_auto_columns": null,
            "grid_auto_flow": null,
            "grid_auto_rows": null,
            "grid_column": null,
            "grid_gap": null,
            "grid_row": null,
            "grid_template_areas": null,
            "grid_template_columns": null,
            "grid_template_rows": null,
            "height": null,
            "justify_content": null,
            "justify_items": null,
            "left": null,
            "margin": null,
            "max_height": null,
            "max_width": null,
            "min_height": null,
            "min_width": null,
            "object_fit": null,
            "object_position": null,
            "order": null,
            "overflow": null,
            "overflow_x": null,
            "overflow_y": null,
            "padding": null,
            "right": null,
            "top": null,
            "visibility": null,
            "width": null
          }
        },
        "29c7cff17e034d45a210441e1006c857": {
          "model_module": "@jupyter-widgets/controls",
          "model_name": "ProgressStyleModel",
          "model_module_version": "1.5.0",
          "state": {
            "_model_module": "@jupyter-widgets/controls",
            "_model_module_version": "1.5.0",
            "_model_name": "ProgressStyleModel",
            "_view_count": null,
            "_view_module": "@jupyter-widgets/base",
            "_view_module_version": "1.2.0",
            "_view_name": "StyleView",
            "bar_color": null,
            "description_width": ""
          }
        },
        "03891e89d5b345c8b2d2007de2b34007": {
          "model_module": "@jupyter-widgets/base",
          "model_name": "LayoutModel",
          "model_module_version": "1.2.0",
          "state": {
            "_model_module": "@jupyter-widgets/base",
            "_model_module_version": "1.2.0",
            "_model_name": "LayoutModel",
            "_view_count": null,
            "_view_module": "@jupyter-widgets/base",
            "_view_module_version": "1.2.0",
            "_view_name": "LayoutView",
            "align_content": null,
            "align_items": null,
            "align_self": null,
            "border": null,
            "bottom": null,
            "display": null,
            "flex": null,
            "flex_flow": null,
            "grid_area": null,
            "grid_auto_columns": null,
            "grid_auto_flow": null,
            "grid_auto_rows": null,
            "grid_column": null,
            "grid_gap": null,
            "grid_row": null,
            "grid_template_areas": null,
            "grid_template_columns": null,
            "grid_template_rows": null,
            "height": null,
            "justify_content": null,
            "justify_items": null,
            "left": null,
            "margin": null,
            "max_height": null,
            "max_width": null,
            "min_height": null,
            "min_width": null,
            "object_fit": null,
            "object_position": null,
            "order": null,
            "overflow": null,
            "overflow_x": null,
            "overflow_y": null,
            "padding": null,
            "right": null,
            "top": null,
            "visibility": null,
            "width": null
          }
        },
        "c5fbbe600abe4b4f975c2526d828114b": {
          "model_module": "@jupyter-widgets/controls",
          "model_name": "DescriptionStyleModel",
          "model_module_version": "1.5.0",
          "state": {
            "_model_module": "@jupyter-widgets/controls",
            "_model_module_version": "1.5.0",
            "_model_name": "DescriptionStyleModel",
            "_view_count": null,
            "_view_module": "@jupyter-widgets/base",
            "_view_module_version": "1.2.0",
            "_view_name": "StyleView",
            "description_width": ""
          }
        },
        "be17129f16c3436cb0c4134e7dd0134b": {
          "model_module": "@jupyter-widgets/controls",
          "model_name": "HBoxModel",
          "model_module_version": "1.5.0",
          "state": {
            "_dom_classes": [],
            "_model_module": "@jupyter-widgets/controls",
            "_model_module_version": "1.5.0",
            "_model_name": "HBoxModel",
            "_view_count": null,
            "_view_module": "@jupyter-widgets/controls",
            "_view_module_version": "1.5.0",
            "_view_name": "HBoxView",
            "box_style": "",
            "children": [
              "IPY_MODEL_28a8870be4344e66b5ddeacaa012a6c7",
              "IPY_MODEL_ad7ceebc803d4ff89ba7d31cbeba30ee",
              "IPY_MODEL_e4ac055cc9ef42e1842062a13e67f86d"
            ],
            "layout": "IPY_MODEL_4ccdb474e1ef496c957708f9bf4ae38d"
          }
        },
        "28a8870be4344e66b5ddeacaa012a6c7": {
          "model_module": "@jupyter-widgets/controls",
          "model_name": "HTMLModel",
          "model_module_version": "1.5.0",
          "state": {
            "_dom_classes": [],
            "_model_module": "@jupyter-widgets/controls",
            "_model_module_version": "1.5.0",
            "_model_name": "HTMLModel",
            "_view_count": null,
            "_view_module": "@jupyter-widgets/controls",
            "_view_module_version": "1.5.0",
            "_view_name": "HTMLView",
            "description": "",
            "description_tooltip": null,
            "layout": "IPY_MODEL_f57d954de45a442aba23a0b9b84dbba7",
            "placeholder": "​",
            "style": "IPY_MODEL_4459db12978448f48ba7b0639e263e5a",
            "value": "100%"
          }
        },
        "ad7ceebc803d4ff89ba7d31cbeba30ee": {
          "model_module": "@jupyter-widgets/controls",
          "model_name": "FloatProgressModel",
          "model_module_version": "1.5.0",
          "state": {
            "_dom_classes": [],
            "_model_module": "@jupyter-widgets/controls",
            "_model_module_version": "1.5.0",
            "_model_name": "FloatProgressModel",
            "_view_count": null,
            "_view_module": "@jupyter-widgets/controls",
            "_view_module_version": "1.5.0",
            "_view_name": "ProgressView",
            "bar_style": "success",
            "description": "",
            "description_tooltip": null,
            "layout": "IPY_MODEL_45a5b22141cf4c49a4f145727ef68e46",
            "max": 5000,
            "min": 0,
            "orientation": "horizontal",
            "style": "IPY_MODEL_1ee9be64f6ea4b949aec0e5686e7b674",
            "value": 5000
          }
        },
        "e4ac055cc9ef42e1842062a13e67f86d": {
          "model_module": "@jupyter-widgets/controls",
          "model_name": "HTMLModel",
          "model_module_version": "1.5.0",
          "state": {
            "_dom_classes": [],
            "_model_module": "@jupyter-widgets/controls",
            "_model_module_version": "1.5.0",
            "_model_name": "HTMLModel",
            "_view_count": null,
            "_view_module": "@jupyter-widgets/controls",
            "_view_module_version": "1.5.0",
            "_view_name": "HTMLView",
            "description": "",
            "description_tooltip": null,
            "layout": "IPY_MODEL_acea66ddcc3e4f6f974d1382cac6e459",
            "placeholder": "​",
            "style": "IPY_MODEL_a594700a28db45dc854aa6560c783740",
            "value": " 5000/5000 [00:33&lt;00:00, 182.84it/s]"
          }
        },
        "4ccdb474e1ef496c957708f9bf4ae38d": {
          "model_module": "@jupyter-widgets/base",
          "model_name": "LayoutModel",
          "model_module_version": "1.2.0",
          "state": {
            "_model_module": "@jupyter-widgets/base",
            "_model_module_version": "1.2.0",
            "_model_name": "LayoutModel",
            "_view_count": null,
            "_view_module": "@jupyter-widgets/base",
            "_view_module_version": "1.2.0",
            "_view_name": "LayoutView",
            "align_content": null,
            "align_items": null,
            "align_self": null,
            "border": null,
            "bottom": null,
            "display": null,
            "flex": null,
            "flex_flow": null,
            "grid_area": null,
            "grid_auto_columns": null,
            "grid_auto_flow": null,
            "grid_auto_rows": null,
            "grid_column": null,
            "grid_gap": null,
            "grid_row": null,
            "grid_template_areas": null,
            "grid_template_columns": null,
            "grid_template_rows": null,
            "height": null,
            "justify_content": null,
            "justify_items": null,
            "left": null,
            "margin": null,
            "max_height": null,
            "max_width": null,
            "min_height": null,
            "min_width": null,
            "object_fit": null,
            "object_position": null,
            "order": null,
            "overflow": null,
            "overflow_x": null,
            "overflow_y": null,
            "padding": null,
            "right": null,
            "top": null,
            "visibility": null,
            "width": null
          }
        },
        "f57d954de45a442aba23a0b9b84dbba7": {
          "model_module": "@jupyter-widgets/base",
          "model_name": "LayoutModel",
          "model_module_version": "1.2.0",
          "state": {
            "_model_module": "@jupyter-widgets/base",
            "_model_module_version": "1.2.0",
            "_model_name": "LayoutModel",
            "_view_count": null,
            "_view_module": "@jupyter-widgets/base",
            "_view_module_version": "1.2.0",
            "_view_name": "LayoutView",
            "align_content": null,
            "align_items": null,
            "align_self": null,
            "border": null,
            "bottom": null,
            "display": null,
            "flex": null,
            "flex_flow": null,
            "grid_area": null,
            "grid_auto_columns": null,
            "grid_auto_flow": null,
            "grid_auto_rows": null,
            "grid_column": null,
            "grid_gap": null,
            "grid_row": null,
            "grid_template_areas": null,
            "grid_template_columns": null,
            "grid_template_rows": null,
            "height": null,
            "justify_content": null,
            "justify_items": null,
            "left": null,
            "margin": null,
            "max_height": null,
            "max_width": null,
            "min_height": null,
            "min_width": null,
            "object_fit": null,
            "object_position": null,
            "order": null,
            "overflow": null,
            "overflow_x": null,
            "overflow_y": null,
            "padding": null,
            "right": null,
            "top": null,
            "visibility": null,
            "width": null
          }
        },
        "4459db12978448f48ba7b0639e263e5a": {
          "model_module": "@jupyter-widgets/controls",
          "model_name": "DescriptionStyleModel",
          "model_module_version": "1.5.0",
          "state": {
            "_model_module": "@jupyter-widgets/controls",
            "_model_module_version": "1.5.0",
            "_model_name": "DescriptionStyleModel",
            "_view_count": null,
            "_view_module": "@jupyter-widgets/base",
            "_view_module_version": "1.2.0",
            "_view_name": "StyleView",
            "description_width": ""
          }
        },
        "45a5b22141cf4c49a4f145727ef68e46": {
          "model_module": "@jupyter-widgets/base",
          "model_name": "LayoutModel",
          "model_module_version": "1.2.0",
          "state": {
            "_model_module": "@jupyter-widgets/base",
            "_model_module_version": "1.2.0",
            "_model_name": "LayoutModel",
            "_view_count": null,
            "_view_module": "@jupyter-widgets/base",
            "_view_module_version": "1.2.0",
            "_view_name": "LayoutView",
            "align_content": null,
            "align_items": null,
            "align_self": null,
            "border": null,
            "bottom": null,
            "display": null,
            "flex": null,
            "flex_flow": null,
            "grid_area": null,
            "grid_auto_columns": null,
            "grid_auto_flow": null,
            "grid_auto_rows": null,
            "grid_column": null,
            "grid_gap": null,
            "grid_row": null,
            "grid_template_areas": null,
            "grid_template_columns": null,
            "grid_template_rows": null,
            "height": null,
            "justify_content": null,
            "justify_items": null,
            "left": null,
            "margin": null,
            "max_height": null,
            "max_width": null,
            "min_height": null,
            "min_width": null,
            "object_fit": null,
            "object_position": null,
            "order": null,
            "overflow": null,
            "overflow_x": null,
            "overflow_y": null,
            "padding": null,
            "right": null,
            "top": null,
            "visibility": null,
            "width": null
          }
        },
        "1ee9be64f6ea4b949aec0e5686e7b674": {
          "model_module": "@jupyter-widgets/controls",
          "model_name": "ProgressStyleModel",
          "model_module_version": "1.5.0",
          "state": {
            "_model_module": "@jupyter-widgets/controls",
            "_model_module_version": "1.5.0",
            "_model_name": "ProgressStyleModel",
            "_view_count": null,
            "_view_module": "@jupyter-widgets/base",
            "_view_module_version": "1.2.0",
            "_view_name": "StyleView",
            "bar_color": null,
            "description_width": ""
          }
        },
        "acea66ddcc3e4f6f974d1382cac6e459": {
          "model_module": "@jupyter-widgets/base",
          "model_name": "LayoutModel",
          "model_module_version": "1.2.0",
          "state": {
            "_model_module": "@jupyter-widgets/base",
            "_model_module_version": "1.2.0",
            "_model_name": "LayoutModel",
            "_view_count": null,
            "_view_module": "@jupyter-widgets/base",
            "_view_module_version": "1.2.0",
            "_view_name": "LayoutView",
            "align_content": null,
            "align_items": null,
            "align_self": null,
            "border": null,
            "bottom": null,
            "display": null,
            "flex": null,
            "flex_flow": null,
            "grid_area": null,
            "grid_auto_columns": null,
            "grid_auto_flow": null,
            "grid_auto_rows": null,
            "grid_column": null,
            "grid_gap": null,
            "grid_row": null,
            "grid_template_areas": null,
            "grid_template_columns": null,
            "grid_template_rows": null,
            "height": null,
            "justify_content": null,
            "justify_items": null,
            "left": null,
            "margin": null,
            "max_height": null,
            "max_width": null,
            "min_height": null,
            "min_width": null,
            "object_fit": null,
            "object_position": null,
            "order": null,
            "overflow": null,
            "overflow_x": null,
            "overflow_y": null,
            "padding": null,
            "right": null,
            "top": null,
            "visibility": null,
            "width": null
          }
        },
        "a594700a28db45dc854aa6560c783740": {
          "model_module": "@jupyter-widgets/controls",
          "model_name": "DescriptionStyleModel",
          "model_module_version": "1.5.0",
          "state": {
            "_model_module": "@jupyter-widgets/controls",
            "_model_module_version": "1.5.0",
            "_model_name": "DescriptionStyleModel",
            "_view_count": null,
            "_view_module": "@jupyter-widgets/base",
            "_view_module_version": "1.2.0",
            "_view_name": "StyleView",
            "description_width": ""
          }
        },
        "84280086e7a04d31b3148ecb20050981": {
          "model_module": "@jupyter-widgets/controls",
          "model_name": "HBoxModel",
          "model_module_version": "1.5.0",
          "state": {
            "_dom_classes": [],
            "_model_module": "@jupyter-widgets/controls",
            "_model_module_version": "1.5.0",
            "_model_name": "HBoxModel",
            "_view_count": null,
            "_view_module": "@jupyter-widgets/controls",
            "_view_module_version": "1.5.0",
            "_view_name": "HBoxView",
            "box_style": "",
            "children": [
              "IPY_MODEL_5b29c65193f74711b457f3b42217453f",
              "IPY_MODEL_138de7afc5b94241b680f82d2336842b",
              "IPY_MODEL_ed03b752a31b472e9dcd5ec1296e25c5"
            ],
            "layout": "IPY_MODEL_1f6dfcd5ff6b441e9b1ee4d0f1a0ac08"
          }
        },
        "5b29c65193f74711b457f3b42217453f": {
          "model_module": "@jupyter-widgets/controls",
          "model_name": "HTMLModel",
          "model_module_version": "1.5.0",
          "state": {
            "_dom_classes": [],
            "_model_module": "@jupyter-widgets/controls",
            "_model_module_version": "1.5.0",
            "_model_name": "HTMLModel",
            "_view_count": null,
            "_view_module": "@jupyter-widgets/controls",
            "_view_module_version": "1.5.0",
            "_view_name": "HTMLView",
            "description": "",
            "description_tooltip": null,
            "layout": "IPY_MODEL_607b92b5ba9e48e8846d32a08609fa78",
            "placeholder": "​",
            "style": "IPY_MODEL_5b2616ae2bca4fe99140bbaca0d2e3ce",
            "value": "100%"
          }
        },
        "138de7afc5b94241b680f82d2336842b": {
          "model_module": "@jupyter-widgets/controls",
          "model_name": "FloatProgressModel",
          "model_module_version": "1.5.0",
          "state": {
            "_dom_classes": [],
            "_model_module": "@jupyter-widgets/controls",
            "_model_module_version": "1.5.0",
            "_model_name": "FloatProgressModel",
            "_view_count": null,
            "_view_module": "@jupyter-widgets/controls",
            "_view_module_version": "1.5.0",
            "_view_name": "ProgressView",
            "bar_style": "success",
            "description": "",
            "description_tooltip": null,
            "layout": "IPY_MODEL_27b7edd70ec3466bb18dd8787b26e334",
            "max": 1000,
            "min": 0,
            "orientation": "horizontal",
            "style": "IPY_MODEL_dbd09051e17f4be489ce1df052a9b9bd",
            "value": 1000
          }
        },
        "ed03b752a31b472e9dcd5ec1296e25c5": {
          "model_module": "@jupyter-widgets/controls",
          "model_name": "HTMLModel",
          "model_module_version": "1.5.0",
          "state": {
            "_dom_classes": [],
            "_model_module": "@jupyter-widgets/controls",
            "_model_module_version": "1.5.0",
            "_model_name": "HTMLModel",
            "_view_count": null,
            "_view_module": "@jupyter-widgets/controls",
            "_view_module_version": "1.5.0",
            "_view_name": "HTMLView",
            "description": "",
            "description_tooltip": null,
            "layout": "IPY_MODEL_1e3717d328db4f5496e13bb04c113697",
            "placeholder": "​",
            "style": "IPY_MODEL_a028e94397d245348d3332968a1b9a47",
            "value": " 1000/1000 [00:05&lt;00:00, 189.66it/s]"
          }
        },
        "1f6dfcd5ff6b441e9b1ee4d0f1a0ac08": {
          "model_module": "@jupyter-widgets/base",
          "model_name": "LayoutModel",
          "model_module_version": "1.2.0",
          "state": {
            "_model_module": "@jupyter-widgets/base",
            "_model_module_version": "1.2.0",
            "_model_name": "LayoutModel",
            "_view_count": null,
            "_view_module": "@jupyter-widgets/base",
            "_view_module_version": "1.2.0",
            "_view_name": "LayoutView",
            "align_content": null,
            "align_items": null,
            "align_self": null,
            "border": null,
            "bottom": null,
            "display": null,
            "flex": null,
            "flex_flow": null,
            "grid_area": null,
            "grid_auto_columns": null,
            "grid_auto_flow": null,
            "grid_auto_rows": null,
            "grid_column": null,
            "grid_gap": null,
            "grid_row": null,
            "grid_template_areas": null,
            "grid_template_columns": null,
            "grid_template_rows": null,
            "height": null,
            "justify_content": null,
            "justify_items": null,
            "left": null,
            "margin": null,
            "max_height": null,
            "max_width": null,
            "min_height": null,
            "min_width": null,
            "object_fit": null,
            "object_position": null,
            "order": null,
            "overflow": null,
            "overflow_x": null,
            "overflow_y": null,
            "padding": null,
            "right": null,
            "top": null,
            "visibility": null,
            "width": null
          }
        },
        "607b92b5ba9e48e8846d32a08609fa78": {
          "model_module": "@jupyter-widgets/base",
          "model_name": "LayoutModel",
          "model_module_version": "1.2.0",
          "state": {
            "_model_module": "@jupyter-widgets/base",
            "_model_module_version": "1.2.0",
            "_model_name": "LayoutModel",
            "_view_count": null,
            "_view_module": "@jupyter-widgets/base",
            "_view_module_version": "1.2.0",
            "_view_name": "LayoutView",
            "align_content": null,
            "align_items": null,
            "align_self": null,
            "border": null,
            "bottom": null,
            "display": null,
            "flex": null,
            "flex_flow": null,
            "grid_area": null,
            "grid_auto_columns": null,
            "grid_auto_flow": null,
            "grid_auto_rows": null,
            "grid_column": null,
            "grid_gap": null,
            "grid_row": null,
            "grid_template_areas": null,
            "grid_template_columns": null,
            "grid_template_rows": null,
            "height": null,
            "justify_content": null,
            "justify_items": null,
            "left": null,
            "margin": null,
            "max_height": null,
            "max_width": null,
            "min_height": null,
            "min_width": null,
            "object_fit": null,
            "object_position": null,
            "order": null,
            "overflow": null,
            "overflow_x": null,
            "overflow_y": null,
            "padding": null,
            "right": null,
            "top": null,
            "visibility": null,
            "width": null
          }
        },
        "5b2616ae2bca4fe99140bbaca0d2e3ce": {
          "model_module": "@jupyter-widgets/controls",
          "model_name": "DescriptionStyleModel",
          "model_module_version": "1.5.0",
          "state": {
            "_model_module": "@jupyter-widgets/controls",
            "_model_module_version": "1.5.0",
            "_model_name": "DescriptionStyleModel",
            "_view_count": null,
            "_view_module": "@jupyter-widgets/base",
            "_view_module_version": "1.2.0",
            "_view_name": "StyleView",
            "description_width": ""
          }
        },
        "27b7edd70ec3466bb18dd8787b26e334": {
          "model_module": "@jupyter-widgets/base",
          "model_name": "LayoutModel",
          "model_module_version": "1.2.0",
          "state": {
            "_model_module": "@jupyter-widgets/base",
            "_model_module_version": "1.2.0",
            "_model_name": "LayoutModel",
            "_view_count": null,
            "_view_module": "@jupyter-widgets/base",
            "_view_module_version": "1.2.0",
            "_view_name": "LayoutView",
            "align_content": null,
            "align_items": null,
            "align_self": null,
            "border": null,
            "bottom": null,
            "display": null,
            "flex": null,
            "flex_flow": null,
            "grid_area": null,
            "grid_auto_columns": null,
            "grid_auto_flow": null,
            "grid_auto_rows": null,
            "grid_column": null,
            "grid_gap": null,
            "grid_row": null,
            "grid_template_areas": null,
            "grid_template_columns": null,
            "grid_template_rows": null,
            "height": null,
            "justify_content": null,
            "justify_items": null,
            "left": null,
            "margin": null,
            "max_height": null,
            "max_width": null,
            "min_height": null,
            "min_width": null,
            "object_fit": null,
            "object_position": null,
            "order": null,
            "overflow": null,
            "overflow_x": null,
            "overflow_y": null,
            "padding": null,
            "right": null,
            "top": null,
            "visibility": null,
            "width": null
          }
        },
        "dbd09051e17f4be489ce1df052a9b9bd": {
          "model_module": "@jupyter-widgets/controls",
          "model_name": "ProgressStyleModel",
          "model_module_version": "1.5.0",
          "state": {
            "_model_module": "@jupyter-widgets/controls",
            "_model_module_version": "1.5.0",
            "_model_name": "ProgressStyleModel",
            "_view_count": null,
            "_view_module": "@jupyter-widgets/base",
            "_view_module_version": "1.2.0",
            "_view_name": "StyleView",
            "bar_color": null,
            "description_width": ""
          }
        },
        "1e3717d328db4f5496e13bb04c113697": {
          "model_module": "@jupyter-widgets/base",
          "model_name": "LayoutModel",
          "model_module_version": "1.2.0",
          "state": {
            "_model_module": "@jupyter-widgets/base",
            "_model_module_version": "1.2.0",
            "_model_name": "LayoutModel",
            "_view_count": null,
            "_view_module": "@jupyter-widgets/base",
            "_view_module_version": "1.2.0",
            "_view_name": "LayoutView",
            "align_content": null,
            "align_items": null,
            "align_self": null,
            "border": null,
            "bottom": null,
            "display": null,
            "flex": null,
            "flex_flow": null,
            "grid_area": null,
            "grid_auto_columns": null,
            "grid_auto_flow": null,
            "grid_auto_rows": null,
            "grid_column": null,
            "grid_gap": null,
            "grid_row": null,
            "grid_template_areas": null,
            "grid_template_columns": null,
            "grid_template_rows": null,
            "height": null,
            "justify_content": null,
            "justify_items": null,
            "left": null,
            "margin": null,
            "max_height": null,
            "max_width": null,
            "min_height": null,
            "min_width": null,
            "object_fit": null,
            "object_position": null,
            "order": null,
            "overflow": null,
            "overflow_x": null,
            "overflow_y": null,
            "padding": null,
            "right": null,
            "top": null,
            "visibility": null,
            "width": null
          }
        },
        "a028e94397d245348d3332968a1b9a47": {
          "model_module": "@jupyter-widgets/controls",
          "model_name": "DescriptionStyleModel",
          "model_module_version": "1.5.0",
          "state": {
            "_model_module": "@jupyter-widgets/controls",
            "_model_module_version": "1.5.0",
            "_model_name": "DescriptionStyleModel",
            "_view_count": null,
            "_view_module": "@jupyter-widgets/base",
            "_view_module_version": "1.2.0",
            "_view_name": "StyleView",
            "description_width": ""
          }
        }
      }
    }
  },
  "nbformat": 4,
  "nbformat_minor": 0
}